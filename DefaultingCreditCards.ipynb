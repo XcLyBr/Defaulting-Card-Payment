{
  "nbformat": 4,
  "nbformat_minor": 0,
  "metadata": {
    "colab": {
      "name": "DefaultingCreditCards.ipynb",
      "provenance": [],
      "collapsed_sections": [],
      "mount_file_id": "1hUWeQCB96-D-gawfmJI2xnt9KNQO-1Xu",
      "authorship_tag": "ABX9TyOQGYdQVU4RlSoSCy/ltwmX",
      "include_colab_link": true
    },
    "kernelspec": {
      "name": "python3",
      "display_name": "Python 3"
    },
    "language_info": {
      "name": "python"
    }
  },
  "cells": [
    {
      "cell_type": "markdown",
      "metadata": {
        "id": "view-in-github",
        "colab_type": "text"
      },
      "source": [
        "<a href=\"https://colab.research.google.com/github/XcLyBr/Defaulting-Card-Payment/blob/main/DefaultingCreditCards.ipynb\" target=\"_parent\"><img src=\"https://colab.research.google.com/assets/colab-badge.svg\" alt=\"Open In Colab\"/></a>"
      ]
    },
    {
      "cell_type": "markdown",
      "source": [
        "# **DEFAULTING IN CREDIT CARD PAYMENTS**"
      ],
      "metadata": {
        "id": "mJ3lkj9UxXK7"
      }
    },
    {
      "cell_type": "markdown",
      "source": [
        "By: Jose Antonio Villegas"
      ],
      "metadata": {
        "id": "hXH7pdNV_shx"
      }
    },
    {
      "cell_type": "markdown",
      "source": [
        "# Importing Libraries"
      ],
      "metadata": {
        "id": "gYhM7h5o2j97"
      }
    },
    {
      "cell_type": "code",
      "source": [
        "from google.colab import drive\n",
        "drive.mount('/content/drive')"
      ],
      "metadata": {
        "colab": {
          "base_uri": "https://localhost:8080/"
        },
        "id": "17_Jqt3mGQpN",
        "outputId": "6d2c87bb-0fd7-4da1-b6c5-8a45d045414c"
      },
      "execution_count": null,
      "outputs": [
        {
          "output_type": "stream",
          "name": "stdout",
          "text": [
            "Drive already mounted at /content/drive; to attempt to forcibly remount, call drive.mount(\"/content/drive\", force_remount=True).\n"
          ]
        }
      ]
    },
    {
      "cell_type": "code",
      "execution_count": null,
      "metadata": {
        "id": "PbAfJJArxKpv"
      },
      "outputs": [],
      "source": [
        "import pandas as pd\n",
        "import numpy as np\n",
        "import matplotlib.pyplot as plt\n",
        "import seaborn as sns"
      ]
    },
    {
      "cell_type": "markdown",
      "source": [
        "# Load Data and Inspection"
      ],
      "metadata": {
        "id": "6fjQuXgd24ik"
      }
    },
    {
      "cell_type": "code",
      "source": [
        "path = '/content/credit_data.csv'\n",
        "df = pd.read_csv(path)\n",
        "df.head()"
      ],
      "metadata": {
        "colab": {
          "base_uri": "https://localhost:8080/",
          "height": 206
        },
        "id": "pY2d9JH_xedT",
        "outputId": "e994e0ca-f021-471b-ebec-e23536b0e474"
      },
      "execution_count": null,
      "outputs": [
        {
          "output_type": "execute_result",
          "data": {
            "text/plain": [
              "   CARDHLDR  DEFAULT        AGE  ACADMOS  ADEPCNT  MAJORDRG  MINORDRG  \\\n",
              "0         0        0  27.250000        4        0         0         0   \n",
              "1         0        0  40.833332      111        3         0         0   \n",
              "2         1        0  37.666668       54        3         0         0   \n",
              "3         1        0  42.500000       60        3         0         0   \n",
              "4         1        0  21.333334        8        0         0         0   \n",
              "\n",
              "   OWNRENT       INCOME  SELFEMPL   INCPER   EXP_INC     SPENDING   LOGSPEND   \n",
              "0        0  1200.000000         0  18000.0  0.000667                           \n",
              "1        1  4000.000000         0  13500.0  0.000222                           \n",
              "2        1  3666.666667         0  11300.0  0.033270  121.9896773  4.8039364   \n",
              "3        1  2000.000000         0  17250.0  0.048427   96.8536213  4.5732008   \n",
              "4        0  2916.666667         0  35000.0  0.016523   48.1916700  3.8751862   "
            ],
            "text/html": [
              "\n",
              "  <div id=\"df-40e508b7-fd09-4a8a-b728-5051fba99b7a\">\n",
              "    <div class=\"colab-df-container\">\n",
              "      <div>\n",
              "<style scoped>\n",
              "    .dataframe tbody tr th:only-of-type {\n",
              "        vertical-align: middle;\n",
              "    }\n",
              "\n",
              "    .dataframe tbody tr th {\n",
              "        vertical-align: top;\n",
              "    }\n",
              "\n",
              "    .dataframe thead th {\n",
              "        text-align: right;\n",
              "    }\n",
              "</style>\n",
              "<table border=\"1\" class=\"dataframe\">\n",
              "  <thead>\n",
              "    <tr style=\"text-align: right;\">\n",
              "      <th></th>\n",
              "      <th>CARDHLDR</th>\n",
              "      <th>DEFAULT</th>\n",
              "      <th>AGE</th>\n",
              "      <th>ACADMOS</th>\n",
              "      <th>ADEPCNT</th>\n",
              "      <th>MAJORDRG</th>\n",
              "      <th>MINORDRG</th>\n",
              "      <th>OWNRENT</th>\n",
              "      <th>INCOME</th>\n",
              "      <th>SELFEMPL</th>\n",
              "      <th>INCPER</th>\n",
              "      <th>EXP_INC</th>\n",
              "      <th>SPENDING</th>\n",
              "      <th>LOGSPEND</th>\n",
              "    </tr>\n",
              "  </thead>\n",
              "  <tbody>\n",
              "    <tr>\n",
              "      <th>0</th>\n",
              "      <td>0</td>\n",
              "      <td>0</td>\n",
              "      <td>27.250000</td>\n",
              "      <td>4</td>\n",
              "      <td>0</td>\n",
              "      <td>0</td>\n",
              "      <td>0</td>\n",
              "      <td>0</td>\n",
              "      <td>1200.000000</td>\n",
              "      <td>0</td>\n",
              "      <td>18000.0</td>\n",
              "      <td>0.000667</td>\n",
              "      <td></td>\n",
              "      <td></td>\n",
              "    </tr>\n",
              "    <tr>\n",
              "      <th>1</th>\n",
              "      <td>0</td>\n",
              "      <td>0</td>\n",
              "      <td>40.833332</td>\n",
              "      <td>111</td>\n",
              "      <td>3</td>\n",
              "      <td>0</td>\n",
              "      <td>0</td>\n",
              "      <td>1</td>\n",
              "      <td>4000.000000</td>\n",
              "      <td>0</td>\n",
              "      <td>13500.0</td>\n",
              "      <td>0.000222</td>\n",
              "      <td></td>\n",
              "      <td></td>\n",
              "    </tr>\n",
              "    <tr>\n",
              "      <th>2</th>\n",
              "      <td>1</td>\n",
              "      <td>0</td>\n",
              "      <td>37.666668</td>\n",
              "      <td>54</td>\n",
              "      <td>3</td>\n",
              "      <td>0</td>\n",
              "      <td>0</td>\n",
              "      <td>1</td>\n",
              "      <td>3666.666667</td>\n",
              "      <td>0</td>\n",
              "      <td>11300.0</td>\n",
              "      <td>0.033270</td>\n",
              "      <td>121.9896773</td>\n",
              "      <td>4.8039364</td>\n",
              "    </tr>\n",
              "    <tr>\n",
              "      <th>3</th>\n",
              "      <td>1</td>\n",
              "      <td>0</td>\n",
              "      <td>42.500000</td>\n",
              "      <td>60</td>\n",
              "      <td>3</td>\n",
              "      <td>0</td>\n",
              "      <td>0</td>\n",
              "      <td>1</td>\n",
              "      <td>2000.000000</td>\n",
              "      <td>0</td>\n",
              "      <td>17250.0</td>\n",
              "      <td>0.048427</td>\n",
              "      <td>96.8536213</td>\n",
              "      <td>4.5732008</td>\n",
              "    </tr>\n",
              "    <tr>\n",
              "      <th>4</th>\n",
              "      <td>1</td>\n",
              "      <td>0</td>\n",
              "      <td>21.333334</td>\n",
              "      <td>8</td>\n",
              "      <td>0</td>\n",
              "      <td>0</td>\n",
              "      <td>0</td>\n",
              "      <td>0</td>\n",
              "      <td>2916.666667</td>\n",
              "      <td>0</td>\n",
              "      <td>35000.0</td>\n",
              "      <td>0.016523</td>\n",
              "      <td>48.1916700</td>\n",
              "      <td>3.8751862</td>\n",
              "    </tr>\n",
              "  </tbody>\n",
              "</table>\n",
              "</div>\n",
              "      <button class=\"colab-df-convert\" onclick=\"convertToInteractive('df-40e508b7-fd09-4a8a-b728-5051fba99b7a')\"\n",
              "              title=\"Convert this dataframe to an interactive table.\"\n",
              "              style=\"display:none;\">\n",
              "        \n",
              "  <svg xmlns=\"http://www.w3.org/2000/svg\" height=\"24px\"viewBox=\"0 0 24 24\"\n",
              "       width=\"24px\">\n",
              "    <path d=\"M0 0h24v24H0V0z\" fill=\"none\"/>\n",
              "    <path d=\"M18.56 5.44l.94 2.06.94-2.06 2.06-.94-2.06-.94-.94-2.06-.94 2.06-2.06.94zm-11 1L8.5 8.5l.94-2.06 2.06-.94-2.06-.94L8.5 2.5l-.94 2.06-2.06.94zm10 10l.94 2.06.94-2.06 2.06-.94-2.06-.94-.94-2.06-.94 2.06-2.06.94z\"/><path d=\"M17.41 7.96l-1.37-1.37c-.4-.4-.92-.59-1.43-.59-.52 0-1.04.2-1.43.59L10.3 9.45l-7.72 7.72c-.78.78-.78 2.05 0 2.83L4 21.41c.39.39.9.59 1.41.59.51 0 1.02-.2 1.41-.59l7.78-7.78 2.81-2.81c.8-.78.8-2.07 0-2.86zM5.41 20L4 18.59l7.72-7.72 1.47 1.35L5.41 20z\"/>\n",
              "  </svg>\n",
              "      </button>\n",
              "      \n",
              "  <style>\n",
              "    .colab-df-container {\n",
              "      display:flex;\n",
              "      flex-wrap:wrap;\n",
              "      gap: 12px;\n",
              "    }\n",
              "\n",
              "    .colab-df-convert {\n",
              "      background-color: #E8F0FE;\n",
              "      border: none;\n",
              "      border-radius: 50%;\n",
              "      cursor: pointer;\n",
              "      display: none;\n",
              "      fill: #1967D2;\n",
              "      height: 32px;\n",
              "      padding: 0 0 0 0;\n",
              "      width: 32px;\n",
              "    }\n",
              "\n",
              "    .colab-df-convert:hover {\n",
              "      background-color: #E2EBFA;\n",
              "      box-shadow: 0px 1px 2px rgba(60, 64, 67, 0.3), 0px 1px 3px 1px rgba(60, 64, 67, 0.15);\n",
              "      fill: #174EA6;\n",
              "    }\n",
              "\n",
              "    [theme=dark] .colab-df-convert {\n",
              "      background-color: #3B4455;\n",
              "      fill: #D2E3FC;\n",
              "    }\n",
              "\n",
              "    [theme=dark] .colab-df-convert:hover {\n",
              "      background-color: #434B5C;\n",
              "      box-shadow: 0px 1px 3px 1px rgba(0, 0, 0, 0.15);\n",
              "      filter: drop-shadow(0px 1px 2px rgba(0, 0, 0, 0.3));\n",
              "      fill: #FFFFFF;\n",
              "    }\n",
              "  </style>\n",
              "\n",
              "      <script>\n",
              "        const buttonEl =\n",
              "          document.querySelector('#df-40e508b7-fd09-4a8a-b728-5051fba99b7a button.colab-df-convert');\n",
              "        buttonEl.style.display =\n",
              "          google.colab.kernel.accessAllowed ? 'block' : 'none';\n",
              "\n",
              "        async function convertToInteractive(key) {\n",
              "          const element = document.querySelector('#df-40e508b7-fd09-4a8a-b728-5051fba99b7a');\n",
              "          const dataTable =\n",
              "            await google.colab.kernel.invokeFunction('convertToInteractive',\n",
              "                                                     [key], {});\n",
              "          if (!dataTable) return;\n",
              "\n",
              "          const docLinkHtml = 'Like what you see? Visit the ' +\n",
              "            '<a target=\"_blank\" href=https://colab.research.google.com/notebooks/data_table.ipynb>data table notebook</a>'\n",
              "            + ' to learn more about interactive tables.';\n",
              "          element.innerHTML = '';\n",
              "          dataTable['output_type'] = 'display_data';\n",
              "          await google.colab.output.renderOutput(dataTable, element);\n",
              "          const docLink = document.createElement('div');\n",
              "          docLink.innerHTML = docLinkHtml;\n",
              "          element.appendChild(docLink);\n",
              "        }\n",
              "      </script>\n",
              "    </div>\n",
              "  </div>\n",
              "  "
            ]
          },
          "metadata": {},
          "execution_count": 3
        }
      ]
    },
    {
      "cell_type": "markdown",
      "source": [
        "Source : https://www.kaggle.com/surekharamireddy/credit-data"
      ],
      "metadata": {
        "id": "wsqDTuEux2_M"
      }
    },
    {
      "cell_type": "markdown",
      "source": [
        "# Data Information"
      ],
      "metadata": {
        "id": "EDQGHJPD3AcF"
      }
    },
    {
      "cell_type": "code",
      "source": [
        "df.info()"
      ],
      "metadata": {
        "colab": {
          "base_uri": "https://localhost:8080/"
        },
        "id": "I71VSuvVx8tr",
        "outputId": "f9146e3f-eb97-45f2-d7ac-f92248785625"
      },
      "execution_count": null,
      "outputs": [
        {
          "output_type": "stream",
          "name": "stdout",
          "text": [
            "<class 'pandas.core.frame.DataFrame'>\n",
            "RangeIndex: 13444 entries, 0 to 13443\n",
            "Data columns (total 14 columns):\n",
            " #   Column     Non-Null Count  Dtype  \n",
            "---  ------     --------------  -----  \n",
            " 0   CARDHLDR   13444 non-null  int64  \n",
            " 1   DEFAULT    13444 non-null  int64  \n",
            " 2   AGE        13444 non-null  float64\n",
            " 3   ACADMOS    13444 non-null  int64  \n",
            " 4   ADEPCNT    13444 non-null  int64  \n",
            " 5   MAJORDRG   13444 non-null  int64  \n",
            " 6   MINORDRG   13444 non-null  int64  \n",
            " 7   OWNRENT    13444 non-null  int64  \n",
            " 8   INCOME     13444 non-null  float64\n",
            " 9   SELFEMPL   13444 non-null  int64  \n",
            " 10  INCPER     13444 non-null  float64\n",
            " 11  EXP_INC    13444 non-null  float64\n",
            " 12  SPENDING   13444 non-null  object \n",
            " 13  LOGSPEND   13444 non-null  object \n",
            "dtypes: float64(4), int64(8), object(2)\n",
            "memory usage: 1.4+ MB\n"
          ]
        }
      ]
    },
    {
      "cell_type": "markdown",
      "source": [
        "# Data Statistics"
      ],
      "metadata": {
        "id": "lYXx_XWL3GRz"
      }
    },
    {
      "cell_type": "code",
      "source": [
        "df.describe()"
      ],
      "metadata": {
        "colab": {
          "base_uri": "https://localhost:8080/",
          "height": 300
        },
        "id": "pR6woGYF0RHk",
        "outputId": "eb6420b0-0a5e-4052-e8ab-b118f2c7c194"
      },
      "execution_count": null,
      "outputs": [
        {
          "output_type": "execute_result",
          "data": {
            "text/plain": [
              "           CARDHLDR       DEFAULT           AGE       ACADMOS       ADEPCNT  \\\n",
              "count  13444.000000  13444.000000  13444.000000  13444.000000  13444.000000   \n",
              "mean       0.780943      0.074085     33.471828     55.318878      1.017257   \n",
              "std        0.413623      0.261919     10.226484     63.089729      1.279098   \n",
              "min        0.000000      0.000000      0.000000      0.000000      0.000000   \n",
              "25%        1.000000      0.000000     25.666666     12.000000      0.000000   \n",
              "50%        1.000000      0.000000     31.500000     30.000000      1.000000   \n",
              "75%        1.000000      0.000000     39.333332     72.000000      2.000000   \n",
              "max        1.000000      1.000000     88.666664    576.000000      9.000000   \n",
              "\n",
              "           MAJORDRG      MINORDRG       OWNRENT        INCOME      SELFEMPL  \\\n",
              "count  13444.000000  13444.000000  13444.000000  13444.000000  13444.000000   \n",
              "mean       0.462809      0.290539      0.455965   2509.527819      0.057944   \n",
              "std        1.432724      0.767620      0.498076   1252.946716      0.233646   \n",
              "min        0.000000      0.000000      0.000000     50.000000      0.000000   \n",
              "25%        0.000000      0.000000      0.000000   1666.666667      0.000000   \n",
              "50%        0.000000      0.000000      0.000000   2166.666667      0.000000   \n",
              "75%        0.000000      0.000000      1.000000   2916.666667      0.000000   \n",
              "max       22.000000     11.000000      1.000000   8333.250000      1.000000   \n",
              "\n",
              "              INCPER       EXP_INC  \n",
              "count   13444.000000  13444.000000  \n",
              "mean    21719.680793      0.070974  \n",
              "std     13591.209469      0.103922  \n",
              "min       362.500000      0.000088  \n",
              "25%     12000.000000      0.002706  \n",
              "50%     19000.000000      0.039286  \n",
              "75%     27658.666504      0.095655  \n",
              "max    150000.000000      2.037728  "
            ],
            "text/html": [
              "\n",
              "  <div id=\"df-064a2c30-3ae2-4edd-aed7-2085f0a5397b\">\n",
              "    <div class=\"colab-df-container\">\n",
              "      <div>\n",
              "<style scoped>\n",
              "    .dataframe tbody tr th:only-of-type {\n",
              "        vertical-align: middle;\n",
              "    }\n",
              "\n",
              "    .dataframe tbody tr th {\n",
              "        vertical-align: top;\n",
              "    }\n",
              "\n",
              "    .dataframe thead th {\n",
              "        text-align: right;\n",
              "    }\n",
              "</style>\n",
              "<table border=\"1\" class=\"dataframe\">\n",
              "  <thead>\n",
              "    <tr style=\"text-align: right;\">\n",
              "      <th></th>\n",
              "      <th>CARDHLDR</th>\n",
              "      <th>DEFAULT</th>\n",
              "      <th>AGE</th>\n",
              "      <th>ACADMOS</th>\n",
              "      <th>ADEPCNT</th>\n",
              "      <th>MAJORDRG</th>\n",
              "      <th>MINORDRG</th>\n",
              "      <th>OWNRENT</th>\n",
              "      <th>INCOME</th>\n",
              "      <th>SELFEMPL</th>\n",
              "      <th>INCPER</th>\n",
              "      <th>EXP_INC</th>\n",
              "    </tr>\n",
              "  </thead>\n",
              "  <tbody>\n",
              "    <tr>\n",
              "      <th>count</th>\n",
              "      <td>13444.000000</td>\n",
              "      <td>13444.000000</td>\n",
              "      <td>13444.000000</td>\n",
              "      <td>13444.000000</td>\n",
              "      <td>13444.000000</td>\n",
              "      <td>13444.000000</td>\n",
              "      <td>13444.000000</td>\n",
              "      <td>13444.000000</td>\n",
              "      <td>13444.000000</td>\n",
              "      <td>13444.000000</td>\n",
              "      <td>13444.000000</td>\n",
              "      <td>13444.000000</td>\n",
              "    </tr>\n",
              "    <tr>\n",
              "      <th>mean</th>\n",
              "      <td>0.780943</td>\n",
              "      <td>0.074085</td>\n",
              "      <td>33.471828</td>\n",
              "      <td>55.318878</td>\n",
              "      <td>1.017257</td>\n",
              "      <td>0.462809</td>\n",
              "      <td>0.290539</td>\n",
              "      <td>0.455965</td>\n",
              "      <td>2509.527819</td>\n",
              "      <td>0.057944</td>\n",
              "      <td>21719.680793</td>\n",
              "      <td>0.070974</td>\n",
              "    </tr>\n",
              "    <tr>\n",
              "      <th>std</th>\n",
              "      <td>0.413623</td>\n",
              "      <td>0.261919</td>\n",
              "      <td>10.226484</td>\n",
              "      <td>63.089729</td>\n",
              "      <td>1.279098</td>\n",
              "      <td>1.432724</td>\n",
              "      <td>0.767620</td>\n",
              "      <td>0.498076</td>\n",
              "      <td>1252.946716</td>\n",
              "      <td>0.233646</td>\n",
              "      <td>13591.209469</td>\n",
              "      <td>0.103922</td>\n",
              "    </tr>\n",
              "    <tr>\n",
              "      <th>min</th>\n",
              "      <td>0.000000</td>\n",
              "      <td>0.000000</td>\n",
              "      <td>0.000000</td>\n",
              "      <td>0.000000</td>\n",
              "      <td>0.000000</td>\n",
              "      <td>0.000000</td>\n",
              "      <td>0.000000</td>\n",
              "      <td>0.000000</td>\n",
              "      <td>50.000000</td>\n",
              "      <td>0.000000</td>\n",
              "      <td>362.500000</td>\n",
              "      <td>0.000088</td>\n",
              "    </tr>\n",
              "    <tr>\n",
              "      <th>25%</th>\n",
              "      <td>1.000000</td>\n",
              "      <td>0.000000</td>\n",
              "      <td>25.666666</td>\n",
              "      <td>12.000000</td>\n",
              "      <td>0.000000</td>\n",
              "      <td>0.000000</td>\n",
              "      <td>0.000000</td>\n",
              "      <td>0.000000</td>\n",
              "      <td>1666.666667</td>\n",
              "      <td>0.000000</td>\n",
              "      <td>12000.000000</td>\n",
              "      <td>0.002706</td>\n",
              "    </tr>\n",
              "    <tr>\n",
              "      <th>50%</th>\n",
              "      <td>1.000000</td>\n",
              "      <td>0.000000</td>\n",
              "      <td>31.500000</td>\n",
              "      <td>30.000000</td>\n",
              "      <td>1.000000</td>\n",
              "      <td>0.000000</td>\n",
              "      <td>0.000000</td>\n",
              "      <td>0.000000</td>\n",
              "      <td>2166.666667</td>\n",
              "      <td>0.000000</td>\n",
              "      <td>19000.000000</td>\n",
              "      <td>0.039286</td>\n",
              "    </tr>\n",
              "    <tr>\n",
              "      <th>75%</th>\n",
              "      <td>1.000000</td>\n",
              "      <td>0.000000</td>\n",
              "      <td>39.333332</td>\n",
              "      <td>72.000000</td>\n",
              "      <td>2.000000</td>\n",
              "      <td>0.000000</td>\n",
              "      <td>0.000000</td>\n",
              "      <td>1.000000</td>\n",
              "      <td>2916.666667</td>\n",
              "      <td>0.000000</td>\n",
              "      <td>27658.666504</td>\n",
              "      <td>0.095655</td>\n",
              "    </tr>\n",
              "    <tr>\n",
              "      <th>max</th>\n",
              "      <td>1.000000</td>\n",
              "      <td>1.000000</td>\n",
              "      <td>88.666664</td>\n",
              "      <td>576.000000</td>\n",
              "      <td>9.000000</td>\n",
              "      <td>22.000000</td>\n",
              "      <td>11.000000</td>\n",
              "      <td>1.000000</td>\n",
              "      <td>8333.250000</td>\n",
              "      <td>1.000000</td>\n",
              "      <td>150000.000000</td>\n",
              "      <td>2.037728</td>\n",
              "    </tr>\n",
              "  </tbody>\n",
              "</table>\n",
              "</div>\n",
              "      <button class=\"colab-df-convert\" onclick=\"convertToInteractive('df-064a2c30-3ae2-4edd-aed7-2085f0a5397b')\"\n",
              "              title=\"Convert this dataframe to an interactive table.\"\n",
              "              style=\"display:none;\">\n",
              "        \n",
              "  <svg xmlns=\"http://www.w3.org/2000/svg\" height=\"24px\"viewBox=\"0 0 24 24\"\n",
              "       width=\"24px\">\n",
              "    <path d=\"M0 0h24v24H0V0z\" fill=\"none\"/>\n",
              "    <path d=\"M18.56 5.44l.94 2.06.94-2.06 2.06-.94-2.06-.94-.94-2.06-.94 2.06-2.06.94zm-11 1L8.5 8.5l.94-2.06 2.06-.94-2.06-.94L8.5 2.5l-.94 2.06-2.06.94zm10 10l.94 2.06.94-2.06 2.06-.94-2.06-.94-.94-2.06-.94 2.06-2.06.94z\"/><path d=\"M17.41 7.96l-1.37-1.37c-.4-.4-.92-.59-1.43-.59-.52 0-1.04.2-1.43.59L10.3 9.45l-7.72 7.72c-.78.78-.78 2.05 0 2.83L4 21.41c.39.39.9.59 1.41.59.51 0 1.02-.2 1.41-.59l7.78-7.78 2.81-2.81c.8-.78.8-2.07 0-2.86zM5.41 20L4 18.59l7.72-7.72 1.47 1.35L5.41 20z\"/>\n",
              "  </svg>\n",
              "      </button>\n",
              "      \n",
              "  <style>\n",
              "    .colab-df-container {\n",
              "      display:flex;\n",
              "      flex-wrap:wrap;\n",
              "      gap: 12px;\n",
              "    }\n",
              "\n",
              "    .colab-df-convert {\n",
              "      background-color: #E8F0FE;\n",
              "      border: none;\n",
              "      border-radius: 50%;\n",
              "      cursor: pointer;\n",
              "      display: none;\n",
              "      fill: #1967D2;\n",
              "      height: 32px;\n",
              "      padding: 0 0 0 0;\n",
              "      width: 32px;\n",
              "    }\n",
              "\n",
              "    .colab-df-convert:hover {\n",
              "      background-color: #E2EBFA;\n",
              "      box-shadow: 0px 1px 2px rgba(60, 64, 67, 0.3), 0px 1px 3px 1px rgba(60, 64, 67, 0.15);\n",
              "      fill: #174EA6;\n",
              "    }\n",
              "\n",
              "    [theme=dark] .colab-df-convert {\n",
              "      background-color: #3B4455;\n",
              "      fill: #D2E3FC;\n",
              "    }\n",
              "\n",
              "    [theme=dark] .colab-df-convert:hover {\n",
              "      background-color: #434B5C;\n",
              "      box-shadow: 0px 1px 3px 1px rgba(0, 0, 0, 0.15);\n",
              "      filter: drop-shadow(0px 1px 2px rgba(0, 0, 0, 0.3));\n",
              "      fill: #FFFFFF;\n",
              "    }\n",
              "  </style>\n",
              "\n",
              "      <script>\n",
              "        const buttonEl =\n",
              "          document.querySelector('#df-064a2c30-3ae2-4edd-aed7-2085f0a5397b button.colab-df-convert');\n",
              "        buttonEl.style.display =\n",
              "          google.colab.kernel.accessAllowed ? 'block' : 'none';\n",
              "\n",
              "        async function convertToInteractive(key) {\n",
              "          const element = document.querySelector('#df-064a2c30-3ae2-4edd-aed7-2085f0a5397b');\n",
              "          const dataTable =\n",
              "            await google.colab.kernel.invokeFunction('convertToInteractive',\n",
              "                                                     [key], {});\n",
              "          if (!dataTable) return;\n",
              "\n",
              "          const docLinkHtml = 'Like what you see? Visit the ' +\n",
              "            '<a target=\"_blank\" href=https://colab.research.google.com/notebooks/data_table.ipynb>data table notebook</a>'\n",
              "            + ' to learn more about interactive tables.';\n",
              "          element.innerHTML = '';\n",
              "          dataTable['output_type'] = 'display_data';\n",
              "          await google.colab.output.renderOutput(dataTable, element);\n",
              "          const docLink = document.createElement('div');\n",
              "          docLink.innerHTML = docLinkHtml;\n",
              "          element.appendChild(docLink);\n",
              "        }\n",
              "      </script>\n",
              "    </div>\n",
              "  </div>\n",
              "  "
            ]
          },
          "metadata": {},
          "execution_count": 5
        }
      ]
    },
    {
      "cell_type": "markdown",
      "source": [
        "# Description of Data"
      ],
      "metadata": {
        "id": "6Ktsoqan3Ldz"
      }
    },
    {
      "cell_type": "code",
      "source": [
        "\n",
        "# CARDHLDR  1 if application for credit card accepted, 0 if not\n",
        "# DEFAULT   1 if defaulted 0 if not (observed when CARDHLDR=1, 10,499 observations)\n",
        "# AGE       Age in years plus twelfths of a year\n",
        "# ACADMOS   months living at current address\n",
        "# ADEPCNT   number of dependents\n",
        "# MAJORDRG  Number of major derogatory reports\n",
        "# MINORDRG  Number of minor derogatory reports\n",
        "# OWNRENT   1 if owns their home, 0 if rent\n",
        "# INCOME    Monthly income (divided by 10,000)\n",
        "# SELFEMPL  1 if self employed, 0 if not\n",
        "# INCPER    Income divided by number of dependents\n",
        "# EXP_INC   Ratio of monthly credit card expenditure to yearly income\n",
        "# SPENDING  Average monthly credit card expenditure (for CARDHOLDER = 1)\n",
        "# LOGSPEND  Log of spending"
      ],
      "metadata": {
        "id": "yoe2eN5Wyg-k"
      },
      "execution_count": null,
      "outputs": []
    },
    {
      "cell_type": "markdown",
      "source": [
        "By info() we see that the dataframe is made up of 14 columns and 13444 rows with a mix of int, float and object."
      ],
      "metadata": {
        "id": "2oob4LwyyArc"
      }
    },
    {
      "cell_type": "markdown",
      "source": [
        "# Unnecessary Columns"
      ],
      "metadata": {
        "id": "UK3hWjWh3YYt"
      }
    },
    {
      "cell_type": "code",
      "source": [
        "df.columns"
      ],
      "metadata": {
        "colab": {
          "base_uri": "https://localhost:8080/"
        },
        "id": "jYMrmaP9xFCZ",
        "outputId": "bb9b0e09-8a84-4683-b958-0d8951719e39"
      },
      "execution_count": null,
      "outputs": [
        {
          "output_type": "execute_result",
          "data": {
            "text/plain": [
              "Index(['CARDHLDR', 'DEFAULT', 'AGE', 'ACADMOS', 'ADEPCNT', 'MAJORDRG',\n",
              "       'MINORDRG', 'OWNRENT', 'INCOME', 'SELFEMPL', 'INCPER', 'EXP_INC',\n",
              "       'SPENDING', 'LOGSPEND '],\n",
              "      dtype='object')"
            ]
          },
          "metadata": {},
          "execution_count": 7
        }
      ]
    },
    {
      "cell_type": "markdown",
      "source": [
        "Performed df.columns because there was an error that 'LOGSPEND' could \"not be found in axis\". A space was found before the quotation mark.\n"
      ],
      "metadata": {
        "id": "B7eB_Ul76K9k"
      }
    },
    {
      "cell_type": "code",
      "source": [
        "df = df.drop(columns = ['CARDHLDR', 'LOGSPEND '])"
      ],
      "metadata": {
        "id": "AgJ2JFSYyVY8"
      },
      "execution_count": null,
      "outputs": []
    },
    {
      "cell_type": "markdown",
      "source": [
        "Description shows that 'CARDHLDR' application has been accepted or not. Dropped this because it is assumed that data is for cardholder and not applicants."
      ],
      "metadata": {
        "id": "LtDEDYNJ1ngr"
      }
    },
    {
      "cell_type": "markdown",
      "source": [
        "'LOGSPEND' dropped by description just show log of spending, not much information."
      ],
      "metadata": {
        "id": "XRs-XMIB1-tS"
      }
    },
    {
      "cell_type": "markdown",
      "source": [
        "# Duplicate Check"
      ],
      "metadata": {
        "id": "MXZ5VoPx3dmL"
      }
    },
    {
      "cell_type": "code",
      "source": [
        "df.duplicated().sum()"
      ],
      "metadata": {
        "colab": {
          "base_uri": "https://localhost:8080/"
        },
        "id": "aoyNIkWy0pss",
        "outputId": "52075168-a643-42ba-b91e-903c17464a1a"
      },
      "execution_count": null,
      "outputs": [
        {
          "output_type": "execute_result",
          "data": {
            "text/plain": [
              "0"
            ]
          },
          "metadata": {},
          "execution_count": 10
        }
      ]
    },
    {
      "cell_type": "markdown",
      "source": [
        "# Null Values Check"
      ],
      "metadata": {
        "id": "LKn8r-WZ3p0M"
      }
    },
    {
      "cell_type": "code",
      "source": [
        "df.isnull().sum()"
      ],
      "metadata": {
        "colab": {
          "base_uri": "https://localhost:8080/"
        },
        "id": "ZT8PTwNa02oD",
        "outputId": "657787a9-fa94-4ff9-b47b-e88d645fb11f"
      },
      "execution_count": null,
      "outputs": [
        {
          "output_type": "execute_result",
          "data": {
            "text/plain": [
              "DEFAULT     0\n",
              "AGE         0\n",
              "ACADMOS     0\n",
              "ADEPCNT     0\n",
              "MAJORDRG    0\n",
              "MINORDRG    0\n",
              "OWNRENT     0\n",
              "INCOME      0\n",
              "SELFEMPL    0\n",
              "INCPER      0\n",
              "EXP_INC     0\n",
              "SPENDING    0\n",
              "dtype: int64"
            ]
          },
          "metadata": {},
          "execution_count": 11
        }
      ]
    },
    {
      "cell_type": "markdown",
      "source": [
        "# Visualizations"
      ],
      "metadata": {
        "id": "2GIiw9gsAoTX"
      }
    },
    {
      "cell_type": "code",
      "source": [
        "# df['DEFAULT'].hist();\n",
        "# this is our target\n",
        "sns.histplot(data=df, x = \"DEFAULT\");"
      ],
      "metadata": {
        "colab": {
          "base_uri": "https://localhost:8080/",
          "height": 279
        },
        "id": "kblnC7AJAsvf",
        "outputId": "877cfd00-41d9-455a-8053-2c5cf79fbbcb"
      },
      "execution_count": null,
      "outputs": [
        {
          "output_type": "display_data",
          "data": {
            "text/plain": [
              "<Figure size 432x288 with 1 Axes>"
            ],
            "image/png": "[encoded data removed]"
          },
          "metadata": {
            "needs_background": "light"
          }
        }
      ]
    },
    {
      "cell_type": "markdown",
      "source": [
        "Most distribution of data gathered leans towards 0 or not defaulted. "
      ],
      "metadata": {
        "id": "zahU0sNVCCOA"
      }
    },
    {
      "cell_type": "code",
      "source": [
        "# df.boxplot('AGE');\n",
        "# plt.title('AGE');\n",
        "fig, ax = plt.subplots(1,2, figsize = (12,6))\n",
        "sns.boxplot(df['AGE'], ax=ax[0])\n",
        "sns.histplot(df['AGE'], ax=ax[1]);"
      ],
      "metadata": {
        "colab": {
          "base_uri": "https://localhost:8080/",
          "height": 442
        },
        "id": "sRj7AlO8Cmza",
        "outputId": "9c8304b8-f5da-41f4-f9f7-fe75f3368b94"
      },
      "execution_count": null,
      "outputs": [
        {
          "output_type": "stream",
          "name": "stderr",
          "text": [
            "/usr/local/lib/python3.7/dist-packages/seaborn/_decorators.py:43: FutureWarning: Pass the following variable as a keyword arg: x. From version 0.12, the only valid positional argument will be `data`, and passing other arguments without an explicit keyword will result in an error or misinterpretation.\n",
            "  FutureWarning\n"
          ]
        },
        {
          "output_type": "display_data",
          "data": {
            "text/plain": [
              "<Figure size 864x432 with 2 Axes>"
            ],
            "image/png": "[encoded data removed]"
          },
          "metadata": {
            "needs_background": "light"
          }
        }
      ]
    },
    {
      "cell_type": "code",
      "source": [
        "df['AGE'].value_counts()"
      ],
      "metadata": {
        "colab": {
          "base_uri": "https://localhost:8080/"
        },
        "id": "hWS6y2pIUW27",
        "outputId": "bf9d8a08-db95-41cc-a8aa-3dda958c07c5"
      },
      "execution_count": null,
      "outputs": [
        {
          "output_type": "execute_result",
          "data": {
            "text/plain": [
              "24.833334    78\n",
              "24.250000    75\n",
              "26.000000    74\n",
              "25.000000    68\n",
              "23.083334    67\n",
              "             ..\n",
              "84.166664     1\n",
              "1.583333      1\n",
              "76.333336     1\n",
              "68.833336     1\n",
              "73.416664     1\n",
              "Name: AGE, Length: 643, dtype: int64"
            ]
          },
          "metadata": {},
          "execution_count": 14
        }
      ]
    },
    {
      "cell_type": "code",
      "source": [
        "# df['AGE'].hist();\n",
        "# plt.title('AGE');\n",
        "sns.histplot(data=df, x = \"AGE\");"
      ],
      "metadata": {
        "id": "kdRH8v_KC14X",
        "colab": {
          "base_uri": "https://localhost:8080/",
          "height": 279
        },
        "outputId": "d0b20168-e89d-4b6e-a44f-136af8f7a418"
      },
      "execution_count": null,
      "outputs": [
        {
          "output_type": "display_data",
          "data": {
            "text/plain": [
              "<Figure size 432x288 with 1 Axes>"
            ],
            "image/png": "[encoded data removed]"
          },
          "metadata": {
            "needs_background": "light"
          }
        }
      ]
    },
    {
      "cell_type": "markdown",
      "source": [
        "Noticeably there are outliers in our 'AGE' data."
      ],
      "metadata": {
        "id": "eS2WV6XKDAUY"
      }
    },
    {
      "cell_type": "code",
      "source": [
        "# df.boxplot('ACADMOS');\n",
        "# plt.title('ACADMOS');\n",
        "# sns.boxplot(x = 'ACADMOS', data=df);\n",
        "fig, ax = plt.subplots(1,2, figsize = (12,6))\n",
        "sns.boxplot(df['ACADMOS'], ax=ax[0])\n",
        "sns.histplot(df['ACADMOS'], ax=ax[1]);"
      ],
      "metadata": {
        "colab": {
          "base_uri": "https://localhost:8080/",
          "height": 442
        },
        "id": "3OXzsVETDKHn",
        "outputId": "14ed1ba0-b2ab-4006-d882-85f87507ab8e"
      },
      "execution_count": null,
      "outputs": [
        {
          "output_type": "stream",
          "name": "stderr",
          "text": [
            "/usr/local/lib/python3.7/dist-packages/seaborn/_decorators.py:43: FutureWarning: Pass the following variable as a keyword arg: x. From version 0.12, the only valid positional argument will be `data`, and passing other arguments without an explicit keyword will result in an error or misinterpretation.\n",
            "  FutureWarning\n"
          ]
        },
        {
          "output_type": "display_data",
          "data": {
            "text/plain": [
              "<Figure size 864x432 with 2 Axes>"
            ],
            "image/png": "[encoded data removed]"
          },
          "metadata": {
            "needs_background": "light"
          }
        }
      ]
    },
    {
      "cell_type": "code",
      "source": [
        "# df['ACADMOS'].hist();\n",
        "# plt.title('Months Living in Current Address');\n",
        "# sns.histplot(data=df, x = \"ACADMOS\");"
      ],
      "metadata": {
        "id": "V8njh2gWJ_TL"
      },
      "execution_count": null,
      "outputs": []
    },
    {
      "cell_type": "markdown",
      "source": [
        "Noticeably there are outliers in our 'ACADMOS' data. (Months living in current address)\n"
      ],
      "metadata": {
        "id": "AdRozrl6Dcyh"
      }
    },
    {
      "cell_type": "code",
      "source": [
        "# df.boxplot('ADEPCNT');\n",
        "# plt.title('ADEPCNT');\n",
        "fig, ax = plt.subplots(1,2, figsize = (12,6))\n",
        "sns.boxplot(df['ADEPCNT'], ax=ax[0])\n",
        "sns.histplot(df['ADEPCNT'], ax=ax[1])"
      ],
      "metadata": {
        "colab": {
          "base_uri": "https://localhost:8080/",
          "height": 463
        },
        "id": "paoVsgzxDqNh",
        "outputId": "07bb240b-aaa8-4b23-cea9-650303e59a88"
      },
      "execution_count": null,
      "outputs": [
        {
          "output_type": "stream",
          "name": "stderr",
          "text": [
            "/usr/local/lib/python3.7/dist-packages/seaborn/_decorators.py:43: FutureWarning: Pass the following variable as a keyword arg: x. From version 0.12, the only valid positional argument will be `data`, and passing other arguments without an explicit keyword will result in an error or misinterpretation.\n",
            "  FutureWarning\n"
          ]
        },
        {
          "output_type": "execute_result",
          "data": {
            "text/plain": [
              "<matplotlib.axes._subplots.AxesSubplot at 0x7f3540bb2ad0>"
            ]
          },
          "metadata": {},
          "execution_count": 20
        },
        {
          "output_type": "display_data",
          "data": {
            "text/plain": [
              "<Figure size 864x432 with 2 Axes>"
            ],
            "image/png": "[encoded data removed]"
          },
          "metadata": {
            "needs_background": "light"
          }
        }
      ]
    },
    {
      "cell_type": "code",
      "source": [
        "# df['ADEPCNT'].hist();\n",
        "# plt.title('Number of Dependents');"
      ],
      "metadata": {
        "id": "9Z-wKXIGJwg8"
      },
      "execution_count": null,
      "outputs": []
    },
    {
      "cell_type": "markdown",
      "source": [
        "Minimal outliers seen in 'ADEPCNT'. (Number of dependents)"
      ],
      "metadata": {
        "id": "Lr1259gKD20_"
      }
    },
    {
      "cell_type": "code",
      "source": [
        "# df.boxplot('MAJORDRG');\n",
        "# plt.title('MAJORDRG');\n",
        "fig, ax = plt.subplots(1,2, figsize = (12,6))\n",
        "sns.boxplot(df['MAJORDRG'], ax=ax[0])\n",
        "sns.histplot(df['MAJORDRG'], ax=ax[1]);"
      ],
      "metadata": {
        "colab": {
          "base_uri": "https://localhost:8080/",
          "height": 442
        },
        "id": "oKh3LPazGEWo",
        "outputId": "55e2ce3e-e94a-4cc5-b28f-a558f252636c"
      },
      "execution_count": null,
      "outputs": [
        {
          "output_type": "stream",
          "name": "stderr",
          "text": [
            "/usr/local/lib/python3.7/dist-packages/seaborn/_decorators.py:43: FutureWarning: Pass the following variable as a keyword arg: x. From version 0.12, the only valid positional argument will be `data`, and passing other arguments without an explicit keyword will result in an error or misinterpretation.\n",
            "  FutureWarning\n"
          ]
        },
        {
          "output_type": "display_data",
          "data": {
            "text/plain": [
              "<Figure size 864x432 with 2 Axes>"
            ],
            "image/png": "[encoded data removed]"
          },
          "metadata": {
            "needs_background": "light"
          }
        }
      ]
    },
    {
      "cell_type": "code",
      "source": [
        "# df['MAJORDRG'].hist();\n",
        "# plt.title('With Major Derogatory Report');"
      ],
      "metadata": {
        "id": "I7kKdTGSGWCw"
      },
      "execution_count": null,
      "outputs": []
    },
    {
      "cell_type": "markdown",
      "source": [
        "Noticeably multiple outliers in the 'MAJORDRG' (Number of major derogatory reports)"
      ],
      "metadata": {
        "id": "NPPuYpecGfpI"
      }
    },
    {
      "cell_type": "code",
      "source": [
        "# df.boxplot('MINORDRG');\n",
        "# plt.title('MINORDRG');\n",
        "fig, ax = plt.subplots(1,2, figsize = (12,6))\n",
        "sns.boxplot(df['MINORDRG'], ax=ax[0])\n",
        "sns.histplot(df['MINORDRG'], ax=ax[1]);"
      ],
      "metadata": {
        "colab": {
          "base_uri": "https://localhost:8080/",
          "height": 442
        },
        "id": "V-f65Gp8GtvK",
        "outputId": "a572314b-d68a-42fa-c61c-e623899b1cb2"
      },
      "execution_count": null,
      "outputs": [
        {
          "output_type": "stream",
          "name": "stderr",
          "text": [
            "/usr/local/lib/python3.7/dist-packages/seaborn/_decorators.py:43: FutureWarning: Pass the following variable as a keyword arg: x. From version 0.12, the only valid positional argument will be `data`, and passing other arguments without an explicit keyword will result in an error or misinterpretation.\n",
            "  FutureWarning\n"
          ]
        },
        {
          "output_type": "display_data",
          "data": {
            "text/plain": [
              "<Figure size 864x432 with 2 Axes>"
            ],
            "image/png": "[encoded data removed]"
          },
          "metadata": {
            "needs_background": "light"
          }
        }
      ]
    },
    {
      "cell_type": "code",
      "source": [
        "# df['MINORDRG'].hist();\n",
        "# plt.title('With Minor Derogatory Report');"
      ],
      "metadata": {
        "id": "PTTfYNe7G6vg"
      },
      "execution_count": null,
      "outputs": []
    },
    {
      "cell_type": "markdown",
      "source": [
        "Minimal outliers for the 'MINORDRG' (Number of minor derogatory reports)"
      ],
      "metadata": {
        "id": "YfHP8CBWHHIJ"
      }
    },
    {
      "cell_type": "code",
      "source": [
        "df['OWNRENT'].hist();\n",
        "plt.title('Renters vs Homeowners');"
      ],
      "metadata": {
        "colab": {
          "base_uri": "https://localhost:8080/",
          "height": 281
        },
        "id": "tXY3tdZKHbJi",
        "outputId": "02c53f20-f1ef-4d57-80ab-80fd156f0bf5"
      },
      "execution_count": null,
      "outputs": [
        {
          "output_type": "display_data",
          "data": {
            "text/plain": [
              "<Figure size 432x288 with 1 Axes>"
            ],
            "image/png": "[encoded data removed]"
          },
          "metadata": {
            "needs_background": "light"
          }
        }
      ]
    },
    {
      "cell_type": "markdown",
      "source": [
        "Graph compares (0) renters to (1) homeowners."
      ],
      "metadata": {
        "id": "LqCGXdTSHm_p"
      }
    },
    {
      "cell_type": "code",
      "source": [
        "df['INCOME'].hist();\n",
        "plt.title('Income');"
      ],
      "metadata": {
        "colab": {
          "base_uri": "https://localhost:8080/",
          "height": 281
        },
        "id": "Pl8cDg4AH0az",
        "outputId": "f3427d25-f7dd-4f89-bdb6-449f2feb616c"
      },
      "execution_count": null,
      "outputs": [
        {
          "output_type": "display_data",
          "data": {
            "text/plain": [
              "<Figure size 432x288 with 1 Axes>"
            ],
            "image/png": "[encoded data removed]"
          },
          "metadata": {
            "needs_background": "light"
          }
        }
      ]
    },
    {
      "cell_type": "markdown",
      "source": [
        "INCOME    Monthly income (divided by 10,000)"
      ],
      "metadata": {
        "id": "9hzoJqx2Ice8"
      }
    },
    {
      "cell_type": "code",
      "source": [
        "df['SELFEMPL'].hist();\n",
        "plt.title('Employed or Self-Employed');"
      ],
      "metadata": {
        "colab": {
          "base_uri": "https://localhost:8080/",
          "height": 281
        },
        "id": "1NnSvLmuKQ8Z",
        "outputId": "6f8e3690-96df-4609-a2a7-ba3f59068b62"
      },
      "execution_count": null,
      "outputs": [
        {
          "output_type": "display_data",
          "data": {
            "text/plain": [
              "<Figure size 432x288 with 1 Axes>"
            ],
            "image/png": "[encoded data removed]"
          },
          "metadata": {
            "needs_background": "light"
          }
        }
      ]
    },
    {
      "cell_type": "markdown",
      "source": [
        "Noticeably that there are more employed than self-employed."
      ],
      "metadata": {
        "id": "5G7VhEe2HtMJ"
      }
    },
    {
      "cell_type": "code",
      "source": [
        "# df.boxplot('INCPER');\n",
        "# plt.title('INCPER');\n",
        "fig, ax = plt.subplots(1,2, figsize = (12,6))\n",
        "sns.boxplot(df['INCPER'], ax=ax[0])\n",
        "sns.histplot(df['INCPER'], ax=ax[1]);"
      ],
      "metadata": {
        "colab": {
          "base_uri": "https://localhost:8080/",
          "height": 442
        },
        "id": "rwxUNTJRG1Ag",
        "outputId": "51e7f477-c29e-491d-c8fa-a4297673a49c"
      },
      "execution_count": null,
      "outputs": [
        {
          "output_type": "stream",
          "name": "stderr",
          "text": [
            "/usr/local/lib/python3.7/dist-packages/seaborn/_decorators.py:43: FutureWarning: Pass the following variable as a keyword arg: x. From version 0.12, the only valid positional argument will be `data`, and passing other arguments without an explicit keyword will result in an error or misinterpretation.\n",
            "  FutureWarning\n"
          ]
        },
        {
          "output_type": "display_data",
          "data": {
            "text/plain": [
              "<Figure size 864x432 with 2 Axes>"
            ],
            "image/png": "[encoded data removed]"
          },
          "metadata": {
            "needs_background": "light"
          }
        }
      ]
    },
    {
      "cell_type": "markdown",
      "source": [
        "A noticeably high number of outliers on 'INCPER' (Income Divided by Number of Dependents)"
      ],
      "metadata": {
        "id": "AtXJvaghISoJ"
      }
    },
    {
      "cell_type": "code",
      "source": [
        "fig, ax = plt.subplots(1,2, figsize = (20,4))\n",
        "sns.boxplot(df['EXP_INC'], ax=ax[0])\n",
        "sns.histplot(df['EXP_INC'], ax=ax[1]);"
      ],
      "metadata": {
        "colab": {
          "base_uri": "https://localhost:8080/",
          "height": 336
        },
        "id": "xXkLwqNn40Gz",
        "outputId": "d8fe196e-9614-4a7f-cc88-6f0d94e9b49b"
      },
      "execution_count": null,
      "outputs": [
        {
          "output_type": "stream",
          "name": "stderr",
          "text": [
            "/usr/local/lib/python3.7/dist-packages/seaborn/_decorators.py:43: FutureWarning: Pass the following variable as a keyword arg: x. From version 0.12, the only valid positional argument will be `data`, and passing other arguments without an explicit keyword will result in an error or misinterpretation.\n",
            "  FutureWarning\n"
          ]
        },
        {
          "output_type": "display_data",
          "data": {
            "text/plain": [
              "<Figure size 1440x288 with 2 Axes>"
            ],
            "image/png": "[encoded data removed]"
          },
          "metadata": {
            "needs_background": "light"
          }
        }
      ]
    },
    {
      "cell_type": "markdown",
      "source": [
        "A noticeably high number of outliers with 'EXP_INC' (Ratio of monthly credit card expenditure to yearly income)"
      ],
      "metadata": {
        "id": "qavzyVoU5IbS"
      }
    },
    {
      "cell_type": "markdown",
      "source": [
        "# **HEATMAP**"
      ],
      "metadata": {
        "id": "5hvrb1TCxl55"
      }
    },
    {
      "cell_type": "code",
      "source": [
        "corr = df.corr()\n",
        "plt.figure(figsize=(15,15))\n",
        "sns.heatmap(corr, cmap='Blues', annot=True);"
      ],
      "metadata": {
        "colab": {
          "base_uri": "https://localhost:8080/",
          "height": 868
        },
        "id": "vj-smq_A5W-y",
        "outputId": "dbf447f3-9d9c-42a2-c388-2bd16caa3732"
      },
      "execution_count": null,
      "outputs": [
        {
          "output_type": "display_data",
          "data": {
            "text/plain": [
              "<Figure size 1080x1080 with 2 Axes>"
            ],
            "image/png": "[encoded data removed]"
          },
          "metadata": {
            "needs_background": "light"
          }
        }
      ]
    },
    {
      "cell_type": "markdown",
      "source": [
        "The correlation matrix shows no strong positive or negative correlations between numeric data."
      ],
      "metadata": {
        "id": "AgDVk-Xz6Owj"
      }
    },
    {
      "cell_type": "markdown",
      "source": [
        "# **Defaulting in Payments**"
      ],
      "metadata": {
        "id": "8K9JRcRPPY9Y"
      }
    },
    {
      "cell_type": "markdown",
      "source": [
        "Looking at features, factors or variables can/may default a credit card holder with his/her payments."
      ],
      "metadata": {
        "id": "tUlMoqRAg4GO"
      }
    },
    {
      "cell_type": "code",
      "source": [
        "D1 = df.groupby('DEFAULT')['MAJORDRG'].sum()\n",
        "D1"
      ],
      "metadata": {
        "colab": {
          "base_uri": "https://localhost:8080/"
        },
        "id": "H0xTT_-fiCj0",
        "outputId": "208776e7-1e2d-441e-f9d9-7d15cefbbf94"
      },
      "execution_count": null,
      "outputs": [
        {
          "output_type": "execute_result",
          "data": {
            "text/plain": [
              "DEFAULT\n",
              "0    6028\n",
              "1     175\n",
              "Name: MAJORDRG, dtype: int64"
            ]
          },
          "metadata": {},
          "execution_count": 34
        }
      ]
    },
    {
      "cell_type": "markdown",
      "source": [
        "Base on major derogatory reports:"
      ],
      "metadata": {
        "id": "A-BA5h_dQ-YI"
      }
    },
    {
      "cell_type": "code",
      "source": [
        "labels = [0, 1]\n",
        "plt.bar(D1.index, D1.values)\n",
        "plt.ylabel('MAJORDGR')\n",
        "plt.xlabel('DEFAULT')\n",
        "plt.xticks(labels)\n",
        "plt.show()"
      ],
      "metadata": {
        "colab": {
          "base_uri": "https://localhost:8080/",
          "height": 279
        },
        "id": "5INoPN4bhHKr",
        "outputId": "37842a6d-1b8c-419c-ea0f-94d0052b9991"
      },
      "execution_count": null,
      "outputs": [
        {
          "output_type": "display_data",
          "data": {
            "text/plain": [
              "<Figure size 432x288 with 1 Axes>"
            ],
            "image/png": "[encoded data removed]"
          },
          "metadata": {
            "needs_background": "light"
          }
        }
      ]
    },
    {
      "cell_type": "code",
      "source": [
        "D2 = df.groupby('DEFAULT')['INCOME'].mean() # Income diveded by 10,000\n",
        "D2"
      ],
      "metadata": {
        "colab": {
          "base_uri": "https://localhost:8080/"
        },
        "id": "cmdX_0d2mCcH",
        "outputId": "ea7f7c33-2f80-471a-eeb0-6f732e9b757c"
      },
      "execution_count": null,
      "outputs": [
        {
          "output_type": "execute_result",
          "data": {
            "text/plain": [
              "DEFAULT\n",
              "0    2539.222077\n",
              "1    2155.431101\n",
              "Name: INCOME, dtype: float64"
            ]
          },
          "metadata": {},
          "execution_count": 59
        }
      ]
    },
    {
      "cell_type": "markdown",
      "source": [
        "Based on income:"
      ],
      "metadata": {
        "id": "26bJHWiMRYdb"
      }
    },
    {
      "cell_type": "code",
      "source": [
        "plt.bar(D2.index, D2.values)\n",
        "plt.ylabel('INCOME')\n",
        "plt.xlabel('DEFAULT')\n",
        "plt.xticks(labels)\n",
        "\n",
        "plt.show()"
      ],
      "metadata": {
        "colab": {
          "base_uri": "https://localhost:8080/",
          "height": 279
        },
        "id": "K6sWY9m2mnzn",
        "outputId": "b7177b94-d0b8-4e64-c29d-dbd0545163c6"
      },
      "execution_count": null,
      "outputs": [
        {
          "output_type": "display_data",
          "data": {
            "text/plain": [
              "<Figure size 432x288 with 1 Axes>"
            ],
            "image/png": "[encoded data removed]"
          },
          "metadata": {
            "needs_background": "light"
          }
        }
      ]
    },
    {
      "cell_type": "markdown",
      "source": [
        "At this point, I'm still having a though decision whether to drop 'AGE' or not. Based on .describe(), there is a MAX age of 88. Creditcards were introduced in the 1950's. Minimum age requirement for card holder is 18 so I might just drop that \"AGE' < 18. Data Description does not say much either whether its age of cardholder or number of years cardholder has credit card."
      ],
      "metadata": {
        "id": "IB_un6fJDfjQ"
      }
    }
  ]
}