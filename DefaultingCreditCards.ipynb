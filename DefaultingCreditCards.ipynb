{
  "nbformat": 4,
  "nbformat_minor": 0,
  "metadata": {
    "colab": {
      "name": "DefaultingCreditCards.ipynb",
      "provenance": [],
      "collapsed_sections": [],
      "mount_file_id": "1hUWeQCB96-D-gawfmJI2xnt9KNQO-1Xu",
      "authorship_tag": "ABX9TyMNtXbQO21XhTeRAQy/IxGh",
      "include_colab_link": true
    },
    "kernelspec": {
      "name": "python3",
      "display_name": "Python 3"
    },
    "language_info": {
      "name": "python"
    }
  },
  "cells": [
    {
      "cell_type": "markdown",
      "metadata": {
        "id": "view-in-github",
        "colab_type": "text"
      },
      "source": [
        "<a href=\"https://colab.research.google.com/github/XcLyBr/Defaulting-Card-Payment/blob/main/DefaultingCreditCards.ipynb\" target=\"_parent\"><img src=\"https://colab.research.google.com/assets/colab-badge.svg\" alt=\"Open In Colab\"/></a>"
      ]
    },
    {
      "cell_type": "markdown",
      "source": [
        "# **DEFAULTING IN CREDIT CARD PAYMENTS**"
      ],
      "metadata": {
        "id": "mJ3lkj9UxXK7"
      }
    },
    {
      "cell_type": "markdown",
      "source": [
        "By: Jose Antonio Villegas"
      ],
      "metadata": {
        "id": "hXH7pdNV_shx"
      }
    },
    {
      "cell_type": "markdown",
      "source": [
        "# PROJECT DESCRIPTION"
      ],
      "metadata": {
        "id": "Lc1NGm9HBv2M"
      }
    },
    {
      "cell_type": "markdown",
      "source": [
        "The purpose or goal of this project is to predict or identify consumers who are likely to default on their credit card payments. This data set consists of 13,444 observations with 14 variables."
      ],
      "metadata": {
        "id": "UfHjgiE3CVyC"
      }
    },
    {
      "cell_type": "markdown",
      "source": [
        "# Importing Libraries"
      ],
      "metadata": {
        "id": "gYhM7h5o2j97"
      }
    },
    {
      "cell_type": "code",
      "source": [
        "from google.colab import drive\n",
        "drive.mount('/content/drive')"
      ],
      "metadata": {
        "colab": {
          "base_uri": "https://localhost:8080/"
        },
        "id": "17_Jqt3mGQpN",
        "outputId": "518b4595-37b5-43bc-9732-d99bf6674a92"
      },
      "execution_count": 13,
      "outputs": [
        {
          "output_type": "stream",
          "name": "stdout",
          "text": [
            "Drive already mounted at /content/drive; to attempt to forcibly remount, call drive.mount(\"/content/drive\", force_remount=True).\n"
          ]
        }
      ]
    },
    {
      "cell_type": "code",
      "execution_count": 14,
      "metadata": {
        "id": "PbAfJJArxKpv"
      },
      "outputs": [],
      "source": [
        "import pandas as pd\n",
        "import numpy as np\n",
        "import matplotlib.pyplot as plt\n",
        "import seaborn as sns"
      ]
    },
    {
      "cell_type": "markdown",
      "source": [
        "# Load Data and Inspection"
      ],
      "metadata": {
        "id": "6fjQuXgd24ik"
      }
    },
    {
      "cell_type": "code",
      "source": [
        "path = '/content/credit_data.csv'\n",
        "df = pd.read_csv(path)\n",
        "df.head()"
      ],
      "metadata": {
        "colab": {
          "base_uri": "https://localhost:8080/",
          "height": 250
        },
        "id": "pY2d9JH_xedT",
        "outputId": "0f9fffe0-7a90-44ce-9c2c-5e512717de66"
      },
      "execution_count": 52,
      "outputs": [
        {
          "output_type": "execute_result",
          "data": {
            "text/plain": [
              "   CARDHLDR  DEFAULT        AGE  ACADMOS  ADEPCNT  MAJORDRG  MINORDRG  \\\n",
              "0         0        0  27.250000        4        0         0         0   \n",
              "1         0        0  40.833332      111        3         0         0   \n",
              "2         1        0  37.666668       54        3         0         0   \n",
              "3         1        0  42.500000       60        3         0         0   \n",
              "4         1        0  21.333334        8        0         0         0   \n",
              "\n",
              "   OWNRENT       INCOME  SELFEMPL   INCPER   EXP_INC     SPENDING   LOGSPEND   \n",
              "0        0  1200.000000         0  18000.0  0.000667                           \n",
              "1        1  4000.000000         0  13500.0  0.000222                           \n",
              "2        1  3666.666667         0  11300.0  0.033270  121.9896773  4.8039364   \n",
              "3        1  2000.000000         0  17250.0  0.048427   96.8536213  4.5732008   \n",
              "4        0  2916.666667         0  35000.0  0.016523   48.1916700  3.8751862   "
            ],
            "text/html": [
              "\n",
              "  <div id=\"df-7f45ab50-bfe1-4f19-9032-bafc723f7494\">\n",
              "    <div class=\"colab-df-container\">\n",
              "      <div>\n",
              "<style scoped>\n",
              "    .dataframe tbody tr th:only-of-type {\n",
              "        vertical-align: middle;\n",
              "    }\n",
              "\n",
              "    .dataframe tbody tr th {\n",
              "        vertical-align: top;\n",
              "    }\n",
              "\n",
              "    .dataframe thead th {\n",
              "        text-align: right;\n",
              "    }\n",
              "</style>\n",
              "<table border=\"1\" class=\"dataframe\">\n",
              "  <thead>\n",
              "    <tr style=\"text-align: right;\">\n",
              "      <th></th>\n",
              "      <th>CARDHLDR</th>\n",
              "      <th>DEFAULT</th>\n",
              "      <th>AGE</th>\n",
              "      <th>ACADMOS</th>\n",
              "      <th>ADEPCNT</th>\n",
              "      <th>MAJORDRG</th>\n",
              "      <th>MINORDRG</th>\n",
              "      <th>OWNRENT</th>\n",
              "      <th>INCOME</th>\n",
              "      <th>SELFEMPL</th>\n",
              "      <th>INCPER</th>\n",
              "      <th>EXP_INC</th>\n",
              "      <th>SPENDING</th>\n",
              "      <th>LOGSPEND</th>\n",
              "    </tr>\n",
              "  </thead>\n",
              "  <tbody>\n",
              "    <tr>\n",
              "      <th>0</th>\n",
              "      <td>0</td>\n",
              "      <td>0</td>\n",
              "      <td>27.250000</td>\n",
              "      <td>4</td>\n",
              "      <td>0</td>\n",
              "      <td>0</td>\n",
              "      <td>0</td>\n",
              "      <td>0</td>\n",
              "      <td>1200.000000</td>\n",
              "      <td>0</td>\n",
              "      <td>18000.0</td>\n",
              "      <td>0.000667</td>\n",
              "      <td></td>\n",
              "      <td></td>\n",
              "    </tr>\n",
              "    <tr>\n",
              "      <th>1</th>\n",
              "      <td>0</td>\n",
              "      <td>0</td>\n",
              "      <td>40.833332</td>\n",
              "      <td>111</td>\n",
              "      <td>3</td>\n",
              "      <td>0</td>\n",
              "      <td>0</td>\n",
              "      <td>1</td>\n",
              "      <td>4000.000000</td>\n",
              "      <td>0</td>\n",
              "      <td>13500.0</td>\n",
              "      <td>0.000222</td>\n",
              "      <td></td>\n",
              "      <td></td>\n",
              "    </tr>\n",
              "    <tr>\n",
              "      <th>2</th>\n",
              "      <td>1</td>\n",
              "      <td>0</td>\n",
              "      <td>37.666668</td>\n",
              "      <td>54</td>\n",
              "      <td>3</td>\n",
              "      <td>0</td>\n",
              "      <td>0</td>\n",
              "      <td>1</td>\n",
              "      <td>3666.666667</td>\n",
              "      <td>0</td>\n",
              "      <td>11300.0</td>\n",
              "      <td>0.033270</td>\n",
              "      <td>121.9896773</td>\n",
              "      <td>4.8039364</td>\n",
              "    </tr>\n",
              "    <tr>\n",
              "      <th>3</th>\n",
              "      <td>1</td>\n",
              "      <td>0</td>\n",
              "      <td>42.500000</td>\n",
              "      <td>60</td>\n",
              "      <td>3</td>\n",
              "      <td>0</td>\n",
              "      <td>0</td>\n",
              "      <td>1</td>\n",
              "      <td>2000.000000</td>\n",
              "      <td>0</td>\n",
              "      <td>17250.0</td>\n",
              "      <td>0.048427</td>\n",
              "      <td>96.8536213</td>\n",
              "      <td>4.5732008</td>\n",
              "    </tr>\n",
              "    <tr>\n",
              "      <th>4</th>\n",
              "      <td>1</td>\n",
              "      <td>0</td>\n",
              "      <td>21.333334</td>\n",
              "      <td>8</td>\n",
              "      <td>0</td>\n",
              "      <td>0</td>\n",
              "      <td>0</td>\n",
              "      <td>0</td>\n",
              "      <td>2916.666667</td>\n",
              "      <td>0</td>\n",
              "      <td>35000.0</td>\n",
              "      <td>0.016523</td>\n",
              "      <td>48.1916700</td>\n",
              "      <td>3.8751862</td>\n",
              "    </tr>\n",
              "  </tbody>\n",
              "</table>\n",
              "</div>\n",
              "      <button class=\"colab-df-convert\" onclick=\"convertToInteractive('df-7f45ab50-bfe1-4f19-9032-bafc723f7494')\"\n",
              "              title=\"Convert this dataframe to an interactive table.\"\n",
              "              style=\"display:none;\">\n",
              "        \n",
              "  <svg xmlns=\"http://www.w3.org/2000/svg\" height=\"24px\"viewBox=\"0 0 24 24\"\n",
              "       width=\"24px\">\n",
              "    <path d=\"M0 0h24v24H0V0z\" fill=\"none\"/>\n",
              "    <path d=\"M18.56 5.44l.94 2.06.94-2.06 2.06-.94-2.06-.94-.94-2.06-.94 2.06-2.06.94zm-11 1L8.5 8.5l.94-2.06 2.06-.94-2.06-.94L8.5 2.5l-.94 2.06-2.06.94zm10 10l.94 2.06.94-2.06 2.06-.94-2.06-.94-.94-2.06-.94 2.06-2.06.94z\"/><path d=\"M17.41 7.96l-1.37-1.37c-.4-.4-.92-.59-1.43-.59-.52 0-1.04.2-1.43.59L10.3 9.45l-7.72 7.72c-.78.78-.78 2.05 0 2.83L4 21.41c.39.39.9.59 1.41.59.51 0 1.02-.2 1.41-.59l7.78-7.78 2.81-2.81c.8-.78.8-2.07 0-2.86zM5.41 20L4 18.59l7.72-7.72 1.47 1.35L5.41 20z\"/>\n",
              "  </svg>\n",
              "      </button>\n",
              "      \n",
              "  <style>\n",
              "    .colab-df-container {\n",
              "      display:flex;\n",
              "      flex-wrap:wrap;\n",
              "      gap: 12px;\n",
              "    }\n",
              "\n",
              "    .colab-df-convert {\n",
              "      background-color: #E8F0FE;\n",
              "      border: none;\n",
              "      border-radius: 50%;\n",
              "      cursor: pointer;\n",
              "      display: none;\n",
              "      fill: #1967D2;\n",
              "      height: 32px;\n",
              "      padding: 0 0 0 0;\n",
              "      width: 32px;\n",
              "    }\n",
              "\n",
              "    .colab-df-convert:hover {\n",
              "      background-color: #E2EBFA;\n",
              "      box-shadow: 0px 1px 2px rgba(60, 64, 67, 0.3), 0px 1px 3px 1px rgba(60, 64, 67, 0.15);\n",
              "      fill: #174EA6;\n",
              "    }\n",
              "\n",
              "    [theme=dark] .colab-df-convert {\n",
              "      background-color: #3B4455;\n",
              "      fill: #D2E3FC;\n",
              "    }\n",
              "\n",
              "    [theme=dark] .colab-df-convert:hover {\n",
              "      background-color: #434B5C;\n",
              "      box-shadow: 0px 1px 3px 1px rgba(0, 0, 0, 0.15);\n",
              "      filter: drop-shadow(0px 1px 2px rgba(0, 0, 0, 0.3));\n",
              "      fill: #FFFFFF;\n",
              "    }\n",
              "  </style>\n",
              "\n",
              "      <script>\n",
              "        const buttonEl =\n",
              "          document.querySelector('#df-7f45ab50-bfe1-4f19-9032-bafc723f7494 button.colab-df-convert');\n",
              "        buttonEl.style.display =\n",
              "          google.colab.kernel.accessAllowed ? 'block' : 'none';\n",
              "\n",
              "        async function convertToInteractive(key) {\n",
              "          const element = document.querySelector('#df-7f45ab50-bfe1-4f19-9032-bafc723f7494');\n",
              "          const dataTable =\n",
              "            await google.colab.kernel.invokeFunction('convertToInteractive',\n",
              "                                                     [key], {});\n",
              "          if (!dataTable) return;\n",
              "\n",
              "          const docLinkHtml = 'Like what you see? Visit the ' +\n",
              "            '<a target=\"_blank\" href=https://colab.research.google.com/notebooks/data_table.ipynb>data table notebook</a>'\n",
              "            + ' to learn more about interactive tables.';\n",
              "          element.innerHTML = '';\n",
              "          dataTable['output_type'] = 'display_data';\n",
              "          await google.colab.output.renderOutput(dataTable, element);\n",
              "          const docLink = document.createElement('div');\n",
              "          docLink.innerHTML = docLinkHtml;\n",
              "          element.appendChild(docLink);\n",
              "        }\n",
              "      </script>\n",
              "    </div>\n",
              "  </div>\n",
              "  "
            ]
          },
          "metadata": {},
          "execution_count": 52
        }
      ]
    },
    {
      "cell_type": "markdown",
      "source": [
        "Source : https://www.kaggle.com/surekharamireddy/credit-data"
      ],
      "metadata": {
        "id": "wsqDTuEux2_M"
      }
    },
    {
      "cell_type": "markdown",
      "source": [
        "# Data Information"
      ],
      "metadata": {
        "id": "EDQGHJPD3AcF"
      }
    },
    {
      "cell_type": "code",
      "source": [
        "df.info()"
      ],
      "metadata": {
        "colab": {
          "base_uri": "https://localhost:8080/"
        },
        "id": "I71VSuvVx8tr",
        "outputId": "1c471d71-ef29-4c8f-f03e-0c99d4eff285"
      },
      "execution_count": 16,
      "outputs": [
        {
          "output_type": "stream",
          "name": "stdout",
          "text": [
            "<class 'pandas.core.frame.DataFrame'>\n",
            "RangeIndex: 13444 entries, 0 to 13443\n",
            "Data columns (total 14 columns):\n",
            " #   Column     Non-Null Count  Dtype  \n",
            "---  ------     --------------  -----  \n",
            " 0   CARDHLDR   13444 non-null  int64  \n",
            " 1   DEFAULT    13444 non-null  int64  \n",
            " 2   AGE        13444 non-null  float64\n",
            " 3   ACADMOS    13444 non-null  int64  \n",
            " 4   ADEPCNT    13444 non-null  int64  \n",
            " 5   MAJORDRG   13444 non-null  int64  \n",
            " 6   MINORDRG   13444 non-null  int64  \n",
            " 7   OWNRENT    13444 non-null  int64  \n",
            " 8   INCOME     13444 non-null  float64\n",
            " 9   SELFEMPL   13444 non-null  int64  \n",
            " 10  INCPER     13444 non-null  float64\n",
            " 11  EXP_INC    13444 non-null  float64\n",
            " 12  SPENDING   13444 non-null  object \n",
            " 13  LOGSPEND   13444 non-null  object \n",
            "dtypes: float64(4), int64(8), object(2)\n",
            "memory usage: 1.4+ MB\n"
          ]
        }
      ]
    },
    {
      "cell_type": "markdown",
      "source": [
        "# Data Statistics"
      ],
      "metadata": {
        "id": "lYXx_XWL3GRz"
      }
    },
    {
      "cell_type": "code",
      "source": [
        "df.describe()"
      ],
      "metadata": {
        "colab": {
          "base_uri": "https://localhost:8080/",
          "height": 364
        },
        "id": "pR6woGYF0RHk",
        "outputId": "001618e2-7efe-4af8-e5fc-2d35f4904d15"
      },
      "execution_count": 17,
      "outputs": [
        {
          "output_type": "execute_result",
          "data": {
            "text/plain": [
              "           CARDHLDR       DEFAULT           AGE       ACADMOS       ADEPCNT  \\\n",
              "count  13444.000000  13444.000000  13444.000000  13444.000000  13444.000000   \n",
              "mean       0.780943      0.074085     33.471828     55.318878      1.017257   \n",
              "std        0.413623      0.261919     10.226484     63.089729      1.279098   \n",
              "min        0.000000      0.000000      0.000000      0.000000      0.000000   \n",
              "25%        1.000000      0.000000     25.666666     12.000000      0.000000   \n",
              "50%        1.000000      0.000000     31.500000     30.000000      1.000000   \n",
              "75%        1.000000      0.000000     39.333332     72.000000      2.000000   \n",
              "max        1.000000      1.000000     88.666664    576.000000      9.000000   \n",
              "\n",
              "           MAJORDRG      MINORDRG       OWNRENT        INCOME      SELFEMPL  \\\n",
              "count  13444.000000  13444.000000  13444.000000  13444.000000  13444.000000   \n",
              "mean       0.462809      0.290539      0.455965   2509.527819      0.057944   \n",
              "std        1.432724      0.767620      0.498076   1252.946716      0.233646   \n",
              "min        0.000000      0.000000      0.000000     50.000000      0.000000   \n",
              "25%        0.000000      0.000000      0.000000   1666.666667      0.000000   \n",
              "50%        0.000000      0.000000      0.000000   2166.666667      0.000000   \n",
              "75%        0.000000      0.000000      1.000000   2916.666667      0.000000   \n",
              "max       22.000000     11.000000      1.000000   8333.250000      1.000000   \n",
              "\n",
              "              INCPER       EXP_INC  \n",
              "count   13444.000000  13444.000000  \n",
              "mean    21719.680793      0.070974  \n",
              "std     13591.209469      0.103922  \n",
              "min       362.500000      0.000088  \n",
              "25%     12000.000000      0.002706  \n",
              "50%     19000.000000      0.039286  \n",
              "75%     27658.666504      0.095655  \n",
              "max    150000.000000      2.037728  "
            ],
            "text/html": [
              "\n",
              "  <div id=\"df-4c066c8d-ef6a-47ad-adb1-2cce721d00db\">\n",
              "    <div class=\"colab-df-container\">\n",
              "      <div>\n",
              "<style scoped>\n",
              "    .dataframe tbody tr th:only-of-type {\n",
              "        vertical-align: middle;\n",
              "    }\n",
              "\n",
              "    .dataframe tbody tr th {\n",
              "        vertical-align: top;\n",
              "    }\n",
              "\n",
              "    .dataframe thead th {\n",
              "        text-align: right;\n",
              "    }\n",
              "</style>\n",
              "<table border=\"1\" class=\"dataframe\">\n",
              "  <thead>\n",
              "    <tr style=\"text-align: right;\">\n",
              "      <th></th>\n",
              "      <th>CARDHLDR</th>\n",
              "      <th>DEFAULT</th>\n",
              "      <th>AGE</th>\n",
              "      <th>ACADMOS</th>\n",
              "      <th>ADEPCNT</th>\n",
              "      <th>MAJORDRG</th>\n",
              "      <th>MINORDRG</th>\n",
              "      <th>OWNRENT</th>\n",
              "      <th>INCOME</th>\n",
              "      <th>SELFEMPL</th>\n",
              "      <th>INCPER</th>\n",
              "      <th>EXP_INC</th>\n",
              "    </tr>\n",
              "  </thead>\n",
              "  <tbody>\n",
              "    <tr>\n",
              "      <th>count</th>\n",
              "      <td>13444.000000</td>\n",
              "      <td>13444.000000</td>\n",
              "      <td>13444.000000</td>\n",
              "      <td>13444.000000</td>\n",
              "      <td>13444.000000</td>\n",
              "      <td>13444.000000</td>\n",
              "      <td>13444.000000</td>\n",
              "      <td>13444.000000</td>\n",
              "      <td>13444.000000</td>\n",
              "      <td>13444.000000</td>\n",
              "      <td>13444.000000</td>\n",
              "      <td>13444.000000</td>\n",
              "    </tr>\n",
              "    <tr>\n",
              "      <th>mean</th>\n",
              "      <td>0.780943</td>\n",
              "      <td>0.074085</td>\n",
              "      <td>33.471828</td>\n",
              "      <td>55.318878</td>\n",
              "      <td>1.017257</td>\n",
              "      <td>0.462809</td>\n",
              "      <td>0.290539</td>\n",
              "      <td>0.455965</td>\n",
              "      <td>2509.527819</td>\n",
              "      <td>0.057944</td>\n",
              "      <td>21719.680793</td>\n",
              "      <td>0.070974</td>\n",
              "    </tr>\n",
              "    <tr>\n",
              "      <th>std</th>\n",
              "      <td>0.413623</td>\n",
              "      <td>0.261919</td>\n",
              "      <td>10.226484</td>\n",
              "      <td>63.089729</td>\n",
              "      <td>1.279098</td>\n",
              "      <td>1.432724</td>\n",
              "      <td>0.767620</td>\n",
              "      <td>0.498076</td>\n",
              "      <td>1252.946716</td>\n",
              "      <td>0.233646</td>\n",
              "      <td>13591.209469</td>\n",
              "      <td>0.103922</td>\n",
              "    </tr>\n",
              "    <tr>\n",
              "      <th>min</th>\n",
              "      <td>0.000000</td>\n",
              "      <td>0.000000</td>\n",
              "      <td>0.000000</td>\n",
              "      <td>0.000000</td>\n",
              "      <td>0.000000</td>\n",
              "      <td>0.000000</td>\n",
              "      <td>0.000000</td>\n",
              "      <td>0.000000</td>\n",
              "      <td>50.000000</td>\n",
              "      <td>0.000000</td>\n",
              "      <td>362.500000</td>\n",
              "      <td>0.000088</td>\n",
              "    </tr>\n",
              "    <tr>\n",
              "      <th>25%</th>\n",
              "      <td>1.000000</td>\n",
              "      <td>0.000000</td>\n",
              "      <td>25.666666</td>\n",
              "      <td>12.000000</td>\n",
              "      <td>0.000000</td>\n",
              "      <td>0.000000</td>\n",
              "      <td>0.000000</td>\n",
              "      <td>0.000000</td>\n",
              "      <td>1666.666667</td>\n",
              "      <td>0.000000</td>\n",
              "      <td>12000.000000</td>\n",
              "      <td>0.002706</td>\n",
              "    </tr>\n",
              "    <tr>\n",
              "      <th>50%</th>\n",
              "      <td>1.000000</td>\n",
              "      <td>0.000000</td>\n",
              "      <td>31.500000</td>\n",
              "      <td>30.000000</td>\n",
              "      <td>1.000000</td>\n",
              "      <td>0.000000</td>\n",
              "      <td>0.000000</td>\n",
              "      <td>0.000000</td>\n",
              "      <td>2166.666667</td>\n",
              "      <td>0.000000</td>\n",
              "      <td>19000.000000</td>\n",
              "      <td>0.039286</td>\n",
              "    </tr>\n",
              "    <tr>\n",
              "      <th>75%</th>\n",
              "      <td>1.000000</td>\n",
              "      <td>0.000000</td>\n",
              "      <td>39.333332</td>\n",
              "      <td>72.000000</td>\n",
              "      <td>2.000000</td>\n",
              "      <td>0.000000</td>\n",
              "      <td>0.000000</td>\n",
              "      <td>1.000000</td>\n",
              "      <td>2916.666667</td>\n",
              "      <td>0.000000</td>\n",
              "      <td>27658.666504</td>\n",
              "      <td>0.095655</td>\n",
              "    </tr>\n",
              "    <tr>\n",
              "      <th>max</th>\n",
              "      <td>1.000000</td>\n",
              "      <td>1.000000</td>\n",
              "      <td>88.666664</td>\n",
              "      <td>576.000000</td>\n",
              "      <td>9.000000</td>\n",
              "      <td>22.000000</td>\n",
              "      <td>11.000000</td>\n",
              "      <td>1.000000</td>\n",
              "      <td>8333.250000</td>\n",
              "      <td>1.000000</td>\n",
              "      <td>150000.000000</td>\n",
              "      <td>2.037728</td>\n",
              "    </tr>\n",
              "  </tbody>\n",
              "</table>\n",
              "</div>\n",
              "      <button class=\"colab-df-convert\" onclick=\"convertToInteractive('df-4c066c8d-ef6a-47ad-adb1-2cce721d00db')\"\n",
              "              title=\"Convert this dataframe to an interactive table.\"\n",
              "              style=\"display:none;\">\n",
              "        \n",
              "  <svg xmlns=\"http://www.w3.org/2000/svg\" height=\"24px\"viewBox=\"0 0 24 24\"\n",
              "       width=\"24px\">\n",
              "    <path d=\"M0 0h24v24H0V0z\" fill=\"none\"/>\n",
              "    <path d=\"M18.56 5.44l.94 2.06.94-2.06 2.06-.94-2.06-.94-.94-2.06-.94 2.06-2.06.94zm-11 1L8.5 8.5l.94-2.06 2.06-.94-2.06-.94L8.5 2.5l-.94 2.06-2.06.94zm10 10l.94 2.06.94-2.06 2.06-.94-2.06-.94-.94-2.06-.94 2.06-2.06.94z\"/><path d=\"M17.41 7.96l-1.37-1.37c-.4-.4-.92-.59-1.43-.59-.52 0-1.04.2-1.43.59L10.3 9.45l-7.72 7.72c-.78.78-.78 2.05 0 2.83L4 21.41c.39.39.9.59 1.41.59.51 0 1.02-.2 1.41-.59l7.78-7.78 2.81-2.81c.8-.78.8-2.07 0-2.86zM5.41 20L4 18.59l7.72-7.72 1.47 1.35L5.41 20z\"/>\n",
              "  </svg>\n",
              "      </button>\n",
              "      \n",
              "  <style>\n",
              "    .colab-df-container {\n",
              "      display:flex;\n",
              "      flex-wrap:wrap;\n",
              "      gap: 12px;\n",
              "    }\n",
              "\n",
              "    .colab-df-convert {\n",
              "      background-color: #E8F0FE;\n",
              "      border: none;\n",
              "      border-radius: 50%;\n",
              "      cursor: pointer;\n",
              "      display: none;\n",
              "      fill: #1967D2;\n",
              "      height: 32px;\n",
              "      padding: 0 0 0 0;\n",
              "      width: 32px;\n",
              "    }\n",
              "\n",
              "    .colab-df-convert:hover {\n",
              "      background-color: #E2EBFA;\n",
              "      box-shadow: 0px 1px 2px rgba(60, 64, 67, 0.3), 0px 1px 3px 1px rgba(60, 64, 67, 0.15);\n",
              "      fill: #174EA6;\n",
              "    }\n",
              "\n",
              "    [theme=dark] .colab-df-convert {\n",
              "      background-color: #3B4455;\n",
              "      fill: #D2E3FC;\n",
              "    }\n",
              "\n",
              "    [theme=dark] .colab-df-convert:hover {\n",
              "      background-color: #434B5C;\n",
              "      box-shadow: 0px 1px 3px 1px rgba(0, 0, 0, 0.15);\n",
              "      filter: drop-shadow(0px 1px 2px rgba(0, 0, 0, 0.3));\n",
              "      fill: #FFFFFF;\n",
              "    }\n",
              "  </style>\n",
              "\n",
              "      <script>\n",
              "        const buttonEl =\n",
              "          document.querySelector('#df-4c066c8d-ef6a-47ad-adb1-2cce721d00db button.colab-df-convert');\n",
              "        buttonEl.style.display =\n",
              "          google.colab.kernel.accessAllowed ? 'block' : 'none';\n",
              "\n",
              "        async function convertToInteractive(key) {\n",
              "          const element = document.querySelector('#df-4c066c8d-ef6a-47ad-adb1-2cce721d00db');\n",
              "          const dataTable =\n",
              "            await google.colab.kernel.invokeFunction('convertToInteractive',\n",
              "                                                     [key], {});\n",
              "          if (!dataTable) return;\n",
              "\n",
              "          const docLinkHtml = 'Like what you see? Visit the ' +\n",
              "            '<a target=\"_blank\" href=https://colab.research.google.com/notebooks/data_table.ipynb>data table notebook</a>'\n",
              "            + ' to learn more about interactive tables.';\n",
              "          element.innerHTML = '';\n",
              "          dataTable['output_type'] = 'display_data';\n",
              "          await google.colab.output.renderOutput(dataTable, element);\n",
              "          const docLink = document.createElement('div');\n",
              "          docLink.innerHTML = docLinkHtml;\n",
              "          element.appendChild(docLink);\n",
              "        }\n",
              "      </script>\n",
              "    </div>\n",
              "  </div>\n",
              "  "
            ]
          },
          "metadata": {},
          "execution_count": 17
        }
      ]
    },
    {
      "cell_type": "markdown",
      "source": [
        "# Description of Data"
      ],
      "metadata": {
        "id": "6Ktsoqan3Ldz"
      }
    },
    {
      "cell_type": "code",
      "source": [
        "\n",
        "# CARDHLDR  1 if application for credit card accepted, 0 if not\n",
        "# DEFAULT   1 if defaulted 0 if not (observed when CARDHLDR=1, 10,499 observations)\n",
        "# AGE       Age in years plus twelfths of a year\n",
        "# ACADMOS   months living at current address\n",
        "# ADEPCNT   number of dependents\n",
        "# MAJORDRG  Number of major derogatory reports\n",
        "# MINORDRG  Number of minor derogatory reports\n",
        "# OWNRENT   1 if owns their home, 0 if rent\n",
        "# INCOME    Monthly income (divided by 10,000)\n",
        "# SELFEMPL  1 if self employed, 0 if not\n",
        "# INCPER    Income divided by number of dependents\n",
        "# EXP_INC   Ratio of monthly credit card expenditure to yearly income\n",
        "# SPENDING  Average monthly credit card expenditure (for CARDHOLDER = 1)\n",
        "# LOGSPEND  Log of spending"
      ],
      "metadata": {
        "id": "yoe2eN5Wyg-k"
      },
      "execution_count": 18,
      "outputs": []
    },
    {
      "cell_type": "markdown",
      "source": [
        "By info() we see that the dataframe is made up of 14 columns and 13444 rows with a mix of int, float and object."
      ],
      "metadata": {
        "id": "2oob4LwyyArc"
      }
    },
    {
      "cell_type": "markdown",
      "source": [
        "# Unnecessary Columns"
      ],
      "metadata": {
        "id": "UK3hWjWh3YYt"
      }
    },
    {
      "cell_type": "code",
      "source": [
        "df.columns"
      ],
      "metadata": {
        "colab": {
          "base_uri": "https://localhost:8080/"
        },
        "id": "jYMrmaP9xFCZ",
        "outputId": "cf7b7c67-7ccb-4074-dcf8-f71f2471a624"
      },
      "execution_count": 19,
      "outputs": [
        {
          "output_type": "execute_result",
          "data": {
            "text/plain": [
              "Index(['CARDHLDR', 'DEFAULT', 'AGE', 'ACADMOS', 'ADEPCNT', 'MAJORDRG',\n",
              "       'MINORDRG', 'OWNRENT', 'INCOME', 'SELFEMPL', 'INCPER', 'EXP_INC',\n",
              "       'SPENDING', 'LOGSPEND '],\n",
              "      dtype='object')"
            ]
          },
          "metadata": {},
          "execution_count": 19
        }
      ]
    },
    {
      "cell_type": "markdown",
      "source": [
        "Performed df.columns because there was an error that 'LOGSPEND' could \"not be found in axis\". A space was found before the quotation mark.\n"
      ],
      "metadata": {
        "id": "B7eB_Ul76K9k"
      }
    },
    {
      "cell_type": "code",
      "source": [
        "df = df.drop(columns = ['CARDHLDR', 'LOGSPEND '])"
      ],
      "metadata": {
        "id": "AgJ2JFSYyVY8"
      },
      "execution_count": 20,
      "outputs": []
    },
    {
      "cell_type": "markdown",
      "source": [
        "Description shows that 'CARDHLDR' application has been accepted or not. Dropped this because it is assumed that data is for cardholder and not applicants."
      ],
      "metadata": {
        "id": "LtDEDYNJ1ngr"
      }
    },
    {
      "cell_type": "markdown",
      "source": [
        "'LOGSPEND' dropped by description just show log of spending, not much information."
      ],
      "metadata": {
        "id": "XRs-XMIB1-tS"
      }
    },
    {
      "cell_type": "markdown",
      "source": [
        "# Duplicate Check"
      ],
      "metadata": {
        "id": "MXZ5VoPx3dmL"
      }
    },
    {
      "cell_type": "code",
      "source": [
        "df.duplicated().sum()"
      ],
      "metadata": {
        "colab": {
          "base_uri": "https://localhost:8080/"
        },
        "id": "aoyNIkWy0pss",
        "outputId": "046ea373-09f5-4185-eddd-bc74309a2a86"
      },
      "execution_count": 21,
      "outputs": [
        {
          "output_type": "execute_result",
          "data": {
            "text/plain": [
              "0"
            ]
          },
          "metadata": {},
          "execution_count": 21
        }
      ]
    },
    {
      "cell_type": "markdown",
      "source": [
        "No duplicate found on the dataset."
      ],
      "metadata": {
        "id": "d6AFUeruDcRm"
      }
    },
    {
      "cell_type": "markdown",
      "source": [
        "# Null Values Check"
      ],
      "metadata": {
        "id": "LKn8r-WZ3p0M"
      }
    },
    {
      "cell_type": "code",
      "source": [
        "df.isnull().sum()"
      ],
      "metadata": {
        "colab": {
          "base_uri": "https://localhost:8080/"
        },
        "id": "ZT8PTwNa02oD",
        "outputId": "b1c5ce83-e63f-47b1-b94c-5784ee33afdf"
      },
      "execution_count": 22,
      "outputs": [
        {
          "output_type": "execute_result",
          "data": {
            "text/plain": [
              "DEFAULT     0\n",
              "AGE         0\n",
              "ACADMOS     0\n",
              "ADEPCNT     0\n",
              "MAJORDRG    0\n",
              "MINORDRG    0\n",
              "OWNRENT     0\n",
              "INCOME      0\n",
              "SELFEMPL    0\n",
              "INCPER      0\n",
              "EXP_INC     0\n",
              "SPENDING    0\n",
              "dtype: int64"
            ]
          },
          "metadata": {},
          "execution_count": 22
        }
      ]
    },
    {
      "cell_type": "markdown",
      "source": [
        "Zero null values."
      ],
      "metadata": {
        "id": "b9gxW7nsDi0h"
      }
    },
    {
      "cell_type": "markdown",
      "source": [
        "# Visualizations"
      ],
      "metadata": {
        "id": "2GIiw9gsAoTX"
      }
    },
    {
      "cell_type": "code",
      "source": [
        "# df['DEFAULT'].hist();\n",
        "# this is our target\n",
        "sns.histplot(data=df, x = \"DEFAULT\");"
      ],
      "metadata": {
        "colab": {
          "base_uri": "https://localhost:8080/",
          "height": 279
        },
        "id": "kblnC7AJAsvf",
        "outputId": "94f4a53b-f0a4-454e-effb-c59540657028"
      },
      "execution_count": 23,
      "outputs": [
        {
          "output_type": "display_data",
          "data": {
            "text/plain": [
              "<Figure size 432x288 with 1 Axes>"
            ],
            "image/png": "[encoded data removed]"
          },
          "metadata": {
            "needs_background": "light"
          }
        }
      ]
    },
    {
      "cell_type": "markdown",
      "source": [
        "Most distribution of data gathered leans towards 0 or not defaulted. "
      ],
      "metadata": {
        "id": "zahU0sNVCCOA"
      }
    },
    {
      "cell_type": "code",
      "source": [
        "# df.boxplot('AGE');\n",
        "# plt.title('AGE');\n",
        "fig, ax = plt.subplots(1,2, figsize = (12,6))\n",
        "sns.boxplot(df['AGE'], ax=ax[0])\n",
        "sns.histplot(df['AGE'], ax=ax[1]);"
      ],
      "metadata": {
        "colab": {
          "base_uri": "https://localhost:8080/",
          "height": 442
        },
        "id": "sRj7AlO8Cmza",
        "outputId": "84001226-837f-452c-b2d1-c6730d905ced"
      },
      "execution_count": 24,
      "outputs": [
        {
          "output_type": "stream",
          "name": "stderr",
          "text": [
            "/usr/local/lib/python3.7/dist-packages/seaborn/_decorators.py:43: FutureWarning: Pass the following variable as a keyword arg: x. From version 0.12, the only valid positional argument will be `data`, and passing other arguments without an explicit keyword will result in an error or misinterpretation.\n",
            "  FutureWarning\n"
          ]
        },
        {
          "output_type": "display_data",
          "data": {
            "text/plain": [
              "<Figure size 864x432 with 2 Axes>"
            ],
            "image/png": "[encoded data removed]"
          },
          "metadata": {
            "needs_background": "light"
          }
        }
      ]
    },
    {
      "cell_type": "code",
      "source": [
        "df['AGE'].value_counts()"
      ],
      "metadata": {
        "colab": {
          "base_uri": "https://localhost:8080/"
        },
        "id": "hWS6y2pIUW27",
        "outputId": "44577668-a105-4843-9349-47d917654d53"
      },
      "execution_count": 25,
      "outputs": [
        {
          "output_type": "execute_result",
          "data": {
            "text/plain": [
              "24.833334    78\n",
              "24.250000    75\n",
              "26.000000    74\n",
              "25.000000    68\n",
              "23.083334    67\n",
              "             ..\n",
              "84.166664     1\n",
              "1.583333      1\n",
              "76.333336     1\n",
              "68.833336     1\n",
              "73.416664     1\n",
              "Name: AGE, Length: 643, dtype: int64"
            ]
          },
          "metadata": {},
          "execution_count": 25
        }
      ]
    },
    {
      "cell_type": "code",
      "source": [
        "# df['AGE'].hist();\n",
        "# plt.title('AGE');\n",
        "sns.histplot(data=df, x = \"AGE\");"
      ],
      "metadata": {
        "id": "kdRH8v_KC14X",
        "colab": {
          "base_uri": "https://localhost:8080/",
          "height": 279
        },
        "outputId": "88fe9cc5-f59a-43ae-ec2a-bb0bcbbaf791"
      },
      "execution_count": 26,
      "outputs": [
        {
          "output_type": "display_data",
          "data": {
            "text/plain": [
              "<Figure size 432x288 with 1 Axes>"
            ],
            "image/png": "[encoded data removed]"
          },
          "metadata": {
            "needs_background": "light"
          }
        }
      ]
    },
    {
      "cell_type": "markdown",
      "source": [
        "Noticeably there are outliers in our 'AGE' data."
      ],
      "metadata": {
        "id": "eS2WV6XKDAUY"
      }
    },
    {
      "cell_type": "code",
      "source": [
        "# df.boxplot('ACADMOS');\n",
        "# plt.title('ACADMOS');\n",
        "# sns.boxplot(x = 'ACADMOS', data=df);\n",
        "fig, ax = plt.subplots(1,2, figsize = (12,6))\n",
        "sns.boxplot(df['ACADMOS'], ax=ax[0])\n",
        "sns.histplot(df['ACADMOS'], ax=ax[1]);"
      ],
      "metadata": {
        "colab": {
          "base_uri": "https://localhost:8080/",
          "height": 442
        },
        "id": "3OXzsVETDKHn",
        "outputId": "b2dca3b9-8633-4352-cbc7-dc158d2da095"
      },
      "execution_count": 27,
      "outputs": [
        {
          "output_type": "stream",
          "name": "stderr",
          "text": [
            "/usr/local/lib/python3.7/dist-packages/seaborn/_decorators.py:43: FutureWarning: Pass the following variable as a keyword arg: x. From version 0.12, the only valid positional argument will be `data`, and passing other arguments without an explicit keyword will result in an error or misinterpretation.\n",
            "  FutureWarning\n"
          ]
        },
        {
          "output_type": "display_data",
          "data": {
            "text/plain": [
              "<Figure size 864x432 with 2 Axes>"
            ],
            "image/png": "[encoded data removed]"
          },
          "metadata": {
            "needs_background": "light"
          }
        }
      ]
    },
    {
      "cell_type": "code",
      "source": [
        "# df['ACADMOS'].hist();\n",
        "# plt.title('Months Living in Current Address');\n",
        "# sns.histplot(data=df, x = \"ACADMOS\");"
      ],
      "metadata": {
        "id": "V8njh2gWJ_TL"
      },
      "execution_count": 28,
      "outputs": []
    },
    {
      "cell_type": "markdown",
      "source": [
        "Noticeably there are outliers in our 'ACADMOS' data. (Months living in current address)\n"
      ],
      "metadata": {
        "id": "AdRozrl6Dcyh"
      }
    },
    {
      "cell_type": "code",
      "source": [
        "# df.boxplot('ADEPCNT');\n",
        "# plt.title('ADEPCNT');\n",
        "fig, ax = plt.subplots(1,2, figsize = (12,6))\n",
        "sns.boxplot(df['ADEPCNT'], ax=ax[0])\n",
        "sns.histplot(df['ADEPCNT'], ax=ax[1])"
      ],
      "metadata": {
        "colab": {
          "base_uri": "https://localhost:8080/",
          "height": 462
        },
        "id": "paoVsgzxDqNh",
        "outputId": "29004aeb-7495-4687-8402-d75ad93ee693"
      },
      "execution_count": 29,
      "outputs": [
        {
          "output_type": "stream",
          "name": "stderr",
          "text": [
            "/usr/local/lib/python3.7/dist-packages/seaborn/_decorators.py:43: FutureWarning: Pass the following variable as a keyword arg: x. From version 0.12, the only valid positional argument will be `data`, and passing other arguments without an explicit keyword will result in an error or misinterpretation.\n",
            "  FutureWarning\n"
          ]
        },
        {
          "output_type": "execute_result",
          "data": {
            "text/plain": [
              "<matplotlib.axes._subplots.AxesSubplot at 0x7fb413b58910>"
            ]
          },
          "metadata": {},
          "execution_count": 29
        },
        {
          "output_type": "display_data",
          "data": {
            "text/plain": [
              "<Figure size 864x432 with 2 Axes>"
            ],
            "image/png": "[encoded data removed]"
          },
          "metadata": {
            "needs_background": "light"
          }
        }
      ]
    },
    {
      "cell_type": "code",
      "source": [
        "# df['ADEPCNT'].hist();\n",
        "# plt.title('Number of Dependents');"
      ],
      "metadata": {
        "id": "9Z-wKXIGJwg8"
      },
      "execution_count": 30,
      "outputs": []
    },
    {
      "cell_type": "markdown",
      "source": [
        "Minimal outliers seen in 'ADEPCNT'. (Number of dependents)"
      ],
      "metadata": {
        "id": "Lr1259gKD20_"
      }
    },
    {
      "cell_type": "code",
      "source": [
        "# df.boxplot('MAJORDRG');\n",
        "# plt.title('MAJORDRG');\n",
        "fig, ax = plt.subplots(1,2, figsize = (12,6))\n",
        "sns.boxplot(df['MAJORDRG'], ax=ax[0])\n",
        "sns.histplot(df['MAJORDRG'], ax=ax[1]);"
      ],
      "metadata": {
        "colab": {
          "base_uri": "https://localhost:8080/",
          "height": 442
        },
        "id": "oKh3LPazGEWo",
        "outputId": "8589af1d-aede-4eba-a039-e6b3c170d792"
      },
      "execution_count": 31,
      "outputs": [
        {
          "output_type": "stream",
          "name": "stderr",
          "text": [
            "/usr/local/lib/python3.7/dist-packages/seaborn/_decorators.py:43: FutureWarning: Pass the following variable as a keyword arg: x. From version 0.12, the only valid positional argument will be `data`, and passing other arguments without an explicit keyword will result in an error or misinterpretation.\n",
            "  FutureWarning\n"
          ]
        },
        {
          "output_type": "display_data",
          "data": {
            "text/plain": [
              "<Figure size 864x432 with 2 Axes>"
            ],
            "image/png": "[encoded data removed]"
          },
          "metadata": {
            "needs_background": "light"
          }
        }
      ]
    },
    {
      "cell_type": "code",
      "source": [
        "# df['MAJORDRG'].hist();\n",
        "# plt.title('With Major Derogatory Report');"
      ],
      "metadata": {
        "id": "I7kKdTGSGWCw"
      },
      "execution_count": 32,
      "outputs": []
    },
    {
      "cell_type": "markdown",
      "source": [
        "Noticeably multiple outliers in the 'MAJORDRG' (Number of major derogatory reports)"
      ],
      "metadata": {
        "id": "NPPuYpecGfpI"
      }
    },
    {
      "cell_type": "code",
      "source": [
        "# df.boxplot('MINORDRG');\n",
        "# plt.title('MINORDRG');\n",
        "fig, ax = plt.subplots(1,2, figsize = (12,6))\n",
        "sns.boxplot(df['MINORDRG'], ax=ax[0])\n",
        "sns.histplot(df['MINORDRG'], ax=ax[1]);"
      ],
      "metadata": {
        "colab": {
          "base_uri": "https://localhost:8080/",
          "height": 442
        },
        "id": "V-f65Gp8GtvK",
        "outputId": "b3521ea0-7891-4d54-87ab-38a76ac11cc3"
      },
      "execution_count": 33,
      "outputs": [
        {
          "output_type": "stream",
          "name": "stderr",
          "text": [
            "/usr/local/lib/python3.7/dist-packages/seaborn/_decorators.py:43: FutureWarning: Pass the following variable as a keyword arg: x. From version 0.12, the only valid positional argument will be `data`, and passing other arguments without an explicit keyword will result in an error or misinterpretation.\n",
            "  FutureWarning\n"
          ]
        },
        {
          "output_type": "display_data",
          "data": {
            "text/plain": [
              "<Figure size 864x432 with 2 Axes>"
            ],
            "image/png": "[encoded data removed]"
          },
          "metadata": {
            "needs_background": "light"
          }
        }
      ]
    },
    {
      "cell_type": "code",
      "source": [
        "# df['MINORDRG'].hist();\n",
        "# plt.title('With Minor Derogatory Report');"
      ],
      "metadata": {
        "id": "PTTfYNe7G6vg"
      },
      "execution_count": 34,
      "outputs": []
    },
    {
      "cell_type": "markdown",
      "source": [
        "Minimal outliers for the 'MINORDRG' (Number of minor derogatory reports)"
      ],
      "metadata": {
        "id": "YfHP8CBWHHIJ"
      }
    },
    {
      "cell_type": "code",
      "source": [
        "df['OWNRENT'].hist();\n",
        "plt.title('Renters vs Homeowners');"
      ],
      "metadata": {
        "colab": {
          "base_uri": "https://localhost:8080/",
          "height": 281
        },
        "id": "tXY3tdZKHbJi",
        "outputId": "7b6da48c-485f-4aa3-8c9b-f32a3a3a446d"
      },
      "execution_count": 35,
      "outputs": [
        {
          "output_type": "display_data",
          "data": {
            "text/plain": [
              "<Figure size 432x288 with 1 Axes>"
            ],
            "image/png": "[encoded data removed]"
          },
          "metadata": {
            "needs_background": "light"
          }
        }
      ]
    },
    {
      "cell_type": "markdown",
      "source": [
        "Graph compares (0) renters to (1) homeowners."
      ],
      "metadata": {
        "id": "LqCGXdTSHm_p"
      }
    },
    {
      "cell_type": "code",
      "source": [
        "df['INCOME'].hist();\n",
        "plt.title('Income');"
      ],
      "metadata": {
        "colab": {
          "base_uri": "https://localhost:8080/",
          "height": 281
        },
        "id": "Pl8cDg4AH0az",
        "outputId": "9554ee62-ea3f-4f61-c110-92f292fc2715"
      },
      "execution_count": 36,
      "outputs": [
        {
          "output_type": "display_data",
          "data": {
            "text/plain": [
              "<Figure size 432x288 with 1 Axes>"
            ],
            "image/png": "[encoded data removed]"
          },
          "metadata": {
            "needs_background": "light"
          }
        }
      ]
    },
    {
      "cell_type": "markdown",
      "source": [
        "INCOME    Monthly income (divided by 10,000)"
      ],
      "metadata": {
        "id": "9hzoJqx2Ice8"
      }
    },
    {
      "cell_type": "code",
      "source": [
        "df['SELFEMPL'].hist();\n",
        "plt.title('Employed or Self-Employed');"
      ],
      "metadata": {
        "colab": {
          "base_uri": "https://localhost:8080/",
          "height": 281
        },
        "id": "1NnSvLmuKQ8Z",
        "outputId": "e09f71e1-5d91-44d0-944a-fb1eaf5b2033"
      },
      "execution_count": 37,
      "outputs": [
        {
          "output_type": "display_data",
          "data": {
            "text/plain": [
              "<Figure size 432x288 with 1 Axes>"
            ],
            "image/png": "[encoded data removed]"
          },
          "metadata": {
            "needs_background": "light"
          }
        }
      ]
    },
    {
      "cell_type": "markdown",
      "source": [
        "Noticeably that there are more employed than self-employed."
      ],
      "metadata": {
        "id": "5G7VhEe2HtMJ"
      }
    },
    {
      "cell_type": "code",
      "source": [
        "# df.boxplot('INCPER');\n",
        "# plt.title('INCPER');\n",
        "fig, ax = plt.subplots(1,2, figsize = (12,6))\n",
        "sns.boxplot(df['INCPER'], ax=ax[0])\n",
        "sns.histplot(df['INCPER'], ax=ax[1]);"
      ],
      "metadata": {
        "colab": {
          "base_uri": "https://localhost:8080/",
          "height": 442
        },
        "id": "rwxUNTJRG1Ag",
        "outputId": "74176a29-f327-470b-8cbc-150d6b021061"
      },
      "execution_count": 38,
      "outputs": [
        {
          "output_type": "stream",
          "name": "stderr",
          "text": [
            "/usr/local/lib/python3.7/dist-packages/seaborn/_decorators.py:43: FutureWarning: Pass the following variable as a keyword arg: x. From version 0.12, the only valid positional argument will be `data`, and passing other arguments without an explicit keyword will result in an error or misinterpretation.\n",
            "  FutureWarning\n"
          ]
        },
        {
          "output_type": "display_data",
          "data": {
            "text/plain": [
              "<Figure size 864x432 with 2 Axes>"
            ],
            "image/png": "[encoded data removed]"
          },
          "metadata": {
            "needs_background": "light"
          }
        }
      ]
    },
    {
      "cell_type": "markdown",
      "source": [
        "A noticeably high number of outliers on 'INCPER' (Income Divided by Number of Dependents)"
      ],
      "metadata": {
        "id": "AtXJvaghISoJ"
      }
    },
    {
      "cell_type": "code",
      "source": [
        "fig, ax = plt.subplots(1,2, figsize = (20,4))\n",
        "sns.boxplot(df['EXP_INC'], ax=ax[0])\n",
        "sns.histplot(df['EXP_INC'], ax=ax[1]);"
      ],
      "metadata": {
        "colab": {
          "base_uri": "https://localhost:8080/",
          "height": 330
        },
        "id": "xXkLwqNn40Gz",
        "outputId": "027adc52-76f5-4311-ac95-0db2e9cc41fe"
      },
      "execution_count": 39,
      "outputs": [
        {
          "output_type": "stream",
          "name": "stderr",
          "text": [
            "/usr/local/lib/python3.7/dist-packages/seaborn/_decorators.py:43: FutureWarning: Pass the following variable as a keyword arg: x. From version 0.12, the only valid positional argument will be `data`, and passing other arguments without an explicit keyword will result in an error or misinterpretation.\n",
            "  FutureWarning\n"
          ]
        },
        {
          "output_type": "display_data",
          "data": {
            "text/plain": [
              "<Figure size 1440x288 with 2 Axes>"
            ],
            "image/png": "[encoded data removed]"
          },
          "metadata": {
            "needs_background": "light"
          }
        }
      ]
    },
    {
      "cell_type": "markdown",
      "source": [
        "A noticeably high number of outliers with 'EXP_INC' (Ratio of monthly credit card expenditure to yearly income)"
      ],
      "metadata": {
        "id": "qavzyVoU5IbS"
      }
    },
    {
      "cell_type": "markdown",
      "source": [
        "# **HEATMAP**"
      ],
      "metadata": {
        "id": "5hvrb1TCxl55"
      }
    },
    {
      "cell_type": "code",
      "source": [
        "corr = df.corr()\n",
        "plt.figure(figsize=(15,15))\n",
        "sns.heatmap(corr, cmap='Blues', annot=True);"
      ],
      "metadata": {
        "colab": {
          "base_uri": "https://localhost:8080/",
          "height": 868
        },
        "id": "vj-smq_A5W-y",
        "outputId": "9aa145d1-7d1f-41b4-fd0d-14ceead77318"
      },
      "execution_count": 40,
      "outputs": [
        {
          "output_type": "display_data",
          "data": {
            "text/plain": [
              "<Figure size 1080x1080 with 2 Axes>"
            ],
            "image/png": "[encoded data removed]"
          },
          "metadata": {
            "needs_background": "light"
          }
        }
      ]
    },
    {
      "cell_type": "markdown",
      "source": [
        "The correlation matrix shows no strong positive or negative correlations between numeric data."
      ],
      "metadata": {
        "id": "AgDVk-Xz6Owj"
      }
    },
    {
      "cell_type": "markdown",
      "source": [
        "# **Defaulting in Payments**"
      ],
      "metadata": {
        "id": "8K9JRcRPPY9Y"
      }
    },
    {
      "cell_type": "markdown",
      "source": [
        "Looking at features, factors or variables can/may default a credit card holder with his/her payments."
      ],
      "metadata": {
        "id": "tUlMoqRAg4GO"
      }
    },
    {
      "cell_type": "code",
      "source": [
        "D1 = df.groupby('DEFAULT')['MAJORDRG'].sum()\n",
        "D1"
      ],
      "metadata": {
        "colab": {
          "base_uri": "https://localhost:8080/"
        },
        "id": "H0xTT_-fiCj0",
        "outputId": "7ac46424-96eb-4dbe-fb56-b3b18cddc756"
      },
      "execution_count": 41,
      "outputs": [
        {
          "output_type": "execute_result",
          "data": {
            "text/plain": [
              "DEFAULT\n",
              "0    6047\n",
              "1     175\n",
              "Name: MAJORDRG, dtype: int64"
            ]
          },
          "metadata": {},
          "execution_count": 41
        }
      ]
    },
    {
      "cell_type": "markdown",
      "source": [
        "**Base on major derogatory reports:**"
      ],
      "metadata": {
        "id": "A-BA5h_dQ-YI"
      }
    },
    {
      "cell_type": "code",
      "source": [
        "labels = [0, 1]\n",
        "plt.bar(D1.index, D1.values)\n",
        "plt.ylabel('MAJORDGR')\n",
        "plt.xlabel('DEFAULT')\n",
        "plt.xticks(labels)\n",
        "plt.show()"
      ],
      "metadata": {
        "colab": {
          "base_uri": "https://localhost:8080/",
          "height": 279
        },
        "id": "5INoPN4bhHKr",
        "outputId": "fef4efec-a931-446a-ffbf-ad20f3de7f55"
      },
      "execution_count": 42,
      "outputs": [
        {
          "output_type": "display_data",
          "data": {
            "text/plain": [
              "<Figure size 432x288 with 1 Axes>"
            ],
            "image/png": "[encoded data removed]"
          },
          "metadata": {
            "needs_background": "light"
          }
        }
      ]
    },
    {
      "cell_type": "code",
      "source": [
        "D2 = df.groupby('DEFAULT')['INCOME'].mean() # Income diveded by 10,000\n",
        "D2"
      ],
      "metadata": {
        "colab": {
          "base_uri": "https://localhost:8080/"
        },
        "id": "cmdX_0d2mCcH",
        "outputId": "155ff41f-7738-4c4f-899d-aaa8109ab486"
      },
      "execution_count": 43,
      "outputs": [
        {
          "output_type": "execute_result",
          "data": {
            "text/plain": [
              "DEFAULT\n",
              "0    2537.805183\n",
              "1    2156.117554\n",
              "Name: INCOME, dtype: float64"
            ]
          },
          "metadata": {},
          "execution_count": 43
        }
      ]
    },
    {
      "cell_type": "markdown",
      "source": [
        "**Based on income:**"
      ],
      "metadata": {
        "id": "26bJHWiMRYdb"
      }
    },
    {
      "cell_type": "code",
      "source": [
        "plt.bar(D2.index, D2.values)\n",
        "plt.ylabel('INCOME')\n",
        "plt.xlabel('DEFAULT')\n",
        "plt.xticks(labels)\n",
        "\n",
        "plt.show()"
      ],
      "metadata": {
        "colab": {
          "base_uri": "https://localhost:8080/",
          "height": 279
        },
        "id": "K6sWY9m2mnzn",
        "outputId": "f244369d-f6da-43a0-e540-c3254997eeb5"
      },
      "execution_count": 44,
      "outputs": [
        {
          "output_type": "display_data",
          "data": {
            "text/plain": [
              "<Figure size 432x288 with 1 Axes>"
            ],
            "image/png": "[encoded data removed]"
          },
          "metadata": {
            "needs_background": "light"
          }
        }
      ]
    },
    {
      "cell_type": "markdown",
      "source": [
        "**Based on Self Employed (1) or Employed (0).**\n"
      ],
      "metadata": {
        "id": "sHh37VjZJDF6"
      }
    },
    {
      "cell_type": "code",
      "source": [
        "D3 = df.groupby('DEFAULT')['SELFEMPL'].sum()\n",
        "D3"
      ],
      "metadata": {
        "colab": {
          "base_uri": "https://localhost:8080/"
        },
        "id": "IUY9vuaFIz5y",
        "outputId": "5da6d3e7-5294-49bc-a7df-e046bac24604"
      },
      "execution_count": 48,
      "outputs": [
        {
          "output_type": "execute_result",
          "data": {
            "text/plain": [
              "DEFAULT\n",
              "0    733\n",
              "1     46\n",
              "Name: SELFEMPL, dtype: int64"
            ]
          },
          "metadata": {},
          "execution_count": 48
        }
      ]
    },
    {
      "cell_type": "code",
      "source": [
        "plt.bar(D3.index, D3.values)\n",
        "plt.ylabel('Self Employed or Not')\n",
        "plt.xlabel('DEFAULT')\n",
        "plt.xticks(labels)\n",
        "\n",
        "plt.show()"
      ],
      "metadata": {
        "colab": {
          "base_uri": "https://localhost:8080/",
          "height": 279
        },
        "id": "KvOgunqmJVR6",
        "outputId": "16a16f5f-d5ec-493a-abd5-5da654c38ca1"
      },
      "execution_count": 49,
      "outputs": [
        {
          "output_type": "display_data",
          "data": {
            "text/plain": [
              "<Figure size 432x288 with 1 Axes>"
            ],
            "image/png": "[encoded data removed]"
          },
          "metadata": {
            "needs_background": "light"
          }
        }
      ]
    },
    {
      "cell_type": "markdown",
      "source": [
        "**Based on if consumer owns (1) or rents (0) their home.** "
      ],
      "metadata": {
        "id": "yAfq6lthLTIc"
      }
    },
    {
      "cell_type": "code",
      "source": [
        "D4 = df.groupby('DEFAULT')['OWNRENT'].sum()\n",
        "D4"
      ],
      "metadata": {
        "colab": {
          "base_uri": "https://localhost:8080/"
        },
        "id": "hu3cRxQoLuZm",
        "outputId": "a40a6896-2a6b-4d6c-f325-10cc1480e602"
      },
      "execution_count": 53,
      "outputs": [
        {
          "output_type": "execute_result",
          "data": {
            "text/plain": [
              "DEFAULT\n",
              "0    5749\n",
              "1     381\n",
              "Name: OWNRENT, dtype: int64"
            ]
          },
          "metadata": {},
          "execution_count": 53
        }
      ]
    },
    {
      "cell_type": "code",
      "source": [
        "plt.bar(D4.index, D4.values)\n",
        "plt.ylabel('Own or Rent')\n",
        "plt.xlabel('DEFAULT')\n",
        "plt.xticks(labels)\n",
        "\n",
        "plt.show()"
      ],
      "metadata": {
        "colab": {
          "base_uri": "https://localhost:8080/",
          "height": 282
        },
        "id": "saeFAbweL-yx",
        "outputId": "074d23f9-c2e8-4aaa-af4c-511bab12404d"
      },
      "execution_count": 55,
      "outputs": [
        {
          "output_type": "display_data",
          "data": {
            "text/plain": [
              "<Figure size 432x288 with 1 Axes>"
            ],
            "image/png": "[encoded data removed]"
          },
          "metadata": {
            "needs_background": "light"
          }
        }
      ]
    },
    {
      "cell_type": "markdown",
      "source": [
        "At this point, I'm still having a though decision whether to drop 'AGE' or not. Based on .describe(), there is a MAX age of 88. Creditcards were introduced in the 1950's. Minimum age requirement for card holder is 18 so I might just drop that \"AGE' < 18. Data Description does not say much either whether its age of cardholder or number of years cardholder has credit card."
      ],
      "metadata": {
        "id": "IB_un6fJDfjQ"
      }
    }
  ]
}